{
 "cells": [
  {
   "cell_type": "markdown",
   "id": "bda0eb3d",
   "metadata": {},
   "source": [
    "**CS481 Notebook 12**: N-gram analysis basics with NLTK"
   ]
  },
  {
   "cell_type": "markdown",
   "id": "134c3dfc",
   "metadata": {},
   "source": [
    "Import nltk package"
   ]
  },
  {
   "cell_type": "code",
   "execution_count": 3,
   "id": "a4d0ab80",
   "metadata": {},
   "outputs": [],
   "source": [
    "import nltk"
   ]
  },
  {
   "cell_type": "markdown",
   "id": "9409cd1c",
   "metadata": {},
   "source": [
    "Define your corpus (it will be just a simple sentence here):"
   ]
  },
  {
   "cell_type": "code",
   "execution_count": 4,
   "id": "aba37667",
   "metadata": {},
   "outputs": [],
   "source": [
    "corpus = 'this is a sentence that i want to analyze for N-grams'"
   ]
  },
  {
   "cell_type": "markdown",
   "id": "0d8a6ce3",
   "metadata": {},
   "source": [
    "Define N in N-gram:"
   ]
  },
  {
   "cell_type": "code",
   "execution_count": 5,
   "id": "46f78c89",
   "metadata": {},
   "outputs": [],
   "source": [
    "N = 2"
   ]
  },
  {
   "cell_type": "markdown",
   "id": "5f7cd803",
   "metadata": {},
   "source": [
    "\"ngramize\" the input corpus"
   ]
  },
  {
   "cell_type": "code",
   "execution_count": 6,
   "id": "5ab9413b",
   "metadata": {},
   "outputs": [],
   "source": [
    "myNgrams = nltk.ngrams(corpus.split(), N)"
   ]
  },
  {
   "cell_type": "markdown",
   "id": "5920ed36",
   "metadata": {},
   "source": [
    "Print out all N-grams"
   ]
  },
  {
   "cell_type": "code",
   "execution_count": 7,
   "id": "c607e8cc",
   "metadata": {},
   "outputs": [
    {
     "name": "stdout",
     "output_type": "stream",
     "text": [
      "('this', 'is')\n",
      "('is', 'a')\n",
      "('a', 'sentence')\n",
      "('sentence', 'that')\n",
      "('that', 'i')\n",
      "('i', 'want')\n",
      "('want', 'to')\n",
      "('to', 'analyze')\n",
      "('analyze', 'for')\n",
      "('for', 'N-grams')\n"
     ]
    }
   ],
   "source": [
    "for grams in myNgrams:\n",
    "    print(grams)"
   ]
  }
 ],
 "metadata": {
  "kernelspec": {
   "display_name": "Python 3 (ipykernel)",
   "language": "python",
   "name": "python3"
  },
  "language_info": {
   "codemirror_mode": {
    "name": "ipython",
    "version": 3
   },
   "file_extension": ".py",
   "mimetype": "text/x-python",
   "name": "python",
   "nbconvert_exporter": "python",
   "pygments_lexer": "ipython3",
   "version": "3.8.12"
  }
 },
 "nbformat": 4,
 "nbformat_minor": 5
}
