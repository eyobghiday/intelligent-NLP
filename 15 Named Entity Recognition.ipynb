{
 "cells": [
  {
   "cell_type": "markdown",
   "id": "5d456b50",
   "metadata": {},
   "source": [
    "##### **CS481 Notebook 15**: Named Entity Recognition with spacy"
   ]
  },
  {
   "cell_type": "markdown",
   "id": "3be1eaba",
   "metadata": {},
   "source": [
    "Let's import spacy package first:"
   ]
  },
  {
   "cell_type": "code",
   "execution_count": 1,
   "id": "a03bcbea",
   "metadata": {},
   "outputs": [],
   "source": [
    "import spacy"
   ]
  },
  {
   "cell_type": "markdown",
   "id": "766f75bc",
   "metadata": {},
   "source": [
    "Let's load the model (install first with python -m spacy download en_core_web_sm)"
   ]
  },
  {
   "cell_type": "code",
   "execution_count": 7,
   "id": "ed9a92d8",
   "metadata": {},
   "outputs": [],
   "source": [
    "nlp = spacy.load(\"en_core_web_sm\")"
   ]
  },
  {
   "cell_type": "markdown",
   "id": "02f94108",
   "metadata": {},
   "source": [
    "Here's our raw document:"
   ]
  },
  {
   "cell_type": "code",
   "execution_count": 8,
   "id": "debe932e",
   "metadata": {},
   "outputs": [],
   "source": [
    "raw_text = \"The fourth Wells account moving to another agency is the packaged paper-products division of Georgia-Pacific Corp., which arrived at Wells only last fall. Like Hertz and the History Channel, it is also leaving for an Omnicom-owned agency, the BBDO South unit of BBDO Worldwide. BBDO South in Atlanta, which handles corporate advertising  for Georgia-Pacific, will assume additional duties for brands like Angel Soft toilet tissue and Sparkle paper towels, said Ken Haldin, a spokesman for Georgia-Pacific in Atlanta.\""
   ]
  },
  {
   "cell_type": "markdown",
   "id": "665d997d",
   "metadata": {},
   "source": [
    "Let's let spacy process it:"
   ]
  },
  {
   "cell_type": "code",
   "execution_count": 9,
   "id": "e2d8256c",
   "metadata": {},
   "outputs": [],
   "source": [
    "analyzed_text = nlp(raw_text)"
   ]
  },
  {
   "cell_type": "markdown",
   "id": "3fa383b4",
   "metadata": {},
   "source": [
    "Let's print out analyzed entities:"
   ]
  },
  {
   "cell_type": "code",
   "execution_count": 10,
   "id": "6c47dd4f",
   "metadata": {
    "scrolled": true
   },
   "outputs": [
    {
     "name": "stdout",
     "output_type": "stream",
     "text": [
      "fourth ORDINAL\n",
      "Georgia-Pacific Corp. ORG\n",
      "Wells ORG\n",
      "Hertz ORG\n",
      "the History Channel ORG\n",
      "Omnicom ORG\n",
      "BBDO South ORG\n",
      "BBDO Worldwide ORG\n",
      "BBDO South PERSON\n",
      "Atlanta GPE\n",
      "Georgia-Pacific ORG\n",
      "Angel Soft FAC\n",
      "Sparkle ORG\n",
      "Ken Haldin PERSON\n",
      "Georgia-Pacific ORG\n",
      "Atlanta GPE\n"
     ]
    }
   ],
   "source": [
    "for word in analyzed_text.ents:\n",
    "    print(word.text,word.label_)"
   ]
  }
 ],
 "metadata": {
  "kernelspec": {
   "display_name": "Python 3",
   "language": "python",
   "name": "python3"
  },
  "language_info": {
   "codemirror_mode": {
    "name": "ipython",
    "version": 3
   },
   "file_extension": ".py",
   "mimetype": "text/x-python",
   "name": "python",
   "nbconvert_exporter": "python",
   "pygments_lexer": "ipython3",
   "version": "3.8.8"
  }
 },
 "nbformat": 4,
 "nbformat_minor": 5
}
