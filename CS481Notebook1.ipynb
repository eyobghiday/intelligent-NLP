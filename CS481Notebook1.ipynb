{
 "cells": [
  {
   "cell_type": "markdown",
   "id": "58f33529",
   "metadata": {},
   "source": [
    "**CS481 Notebook 1:** Regular Expressions with re"
   ]
  },
  {
   "cell_type": "markdown",
   "id": "0b4f164b",
   "metadata": {},
   "source": [
    "Import re package first"
   ]
  },
  {
   "cell_type": "code",
   "execution_count": 8,
   "id": "a92fd3fe",
   "metadata": {},
   "outputs": [],
   "source": [
    "import re"
   ]
  },
  {
   "cell_type": "markdown",
   "id": "7cb73bbf",
   "metadata": {},
   "source": [
    "Set up a string variable for the text you want to process"
   ]
  },
  {
   "cell_type": "code",
   "execution_count": 40,
   "id": "deb39cfc",
   "metadata": {},
   "outputs": [],
   "source": [
    "data = 'NLP'"
   ]
  },
  {
   "cell_type": "markdown",
   "id": "1fb31984",
   "metadata": {},
   "source": [
    "Display your data:"
   ]
  },
  {
   "cell_type": "code",
   "execution_count": 41,
   "id": "fcfa80a9",
   "metadata": {},
   "outputs": [
    {
     "name": "stdout",
     "output_type": "stream",
     "text": [
      "NLP\n"
     ]
    }
   ],
   "source": [
    "print(data)"
   ]
  },
  {
   "cell_type": "markdown",
   "id": "98389019",
   "metadata": {},
   "source": [
    "Specify pattern for **matching**:"
   ]
  },
  {
   "cell_type": "code",
   "execution_count": 56,
   "id": "738fe90e",
   "metadata": {},
   "outputs": [],
   "source": [
    "pattern = 'N.P'"
   ]
  },
  {
   "cell_type": "markdown",
   "id": "45ae8372",
   "metadata": {},
   "source": [
    "Let's see if we can find a matching pattern in our data:"
   ]
  },
  {
   "cell_type": "code",
   "execution_count": 57,
   "id": "9f8ad7c0",
   "metadata": {},
   "outputs": [],
   "source": [
    "result = re.match(pattern, data)"
   ]
  },
  {
   "cell_type": "markdown",
   "id": "15f04afb",
   "metadata": {},
   "source": [
    "Let's check if a match was found:"
   ]
  },
  {
   "cell_type": "code",
   "execution_count": 58,
   "id": "319700dc",
   "metadata": {
    "scrolled": true
   },
   "outputs": [
    {
     "name": "stdout",
     "output_type": "stream",
     "text": [
      "Match found!\n"
     ]
    }
   ],
   "source": [
    "if result:\n",
    "    print(\"Match found!\")\n",
    "else:\n",
    "    print(\"Match not found.\")"
   ]
  },
  {
   "cell_type": "code",
   "execution_count": 59,
   "id": "b12c6022",
   "metadata": {},
   "outputs": [
    {
     "name": "stdout",
     "output_type": "stream",
     "text": [
      "<re.Match object; span=(0, 3), match='NLP'>\n"
     ]
    }
   ],
   "source": [
    "print(result)"
   ]
  },
  {
   "cell_type": "markdown",
   "id": "8a1fc71a",
   "metadata": {},
   "source": [
    "Specify a new pattern for **matching**:"
   ]
  },
  {
   "cell_type": "code",
   "execution_count": 60,
   "id": "398dc224",
   "metadata": {},
   "outputs": [],
   "source": [
    "pattern = 'n.P'"
   ]
  },
  {
   "cell_type": "markdown",
   "id": "f725d8e8",
   "metadata": {},
   "source": [
    "Let's see if we can find a matching pattern in our data:"
   ]
  },
  {
   "cell_type": "code",
   "execution_count": 61,
   "id": "125791cc",
   "metadata": {},
   "outputs": [],
   "source": [
    "result = re.match(pattern, data)"
   ]
  },
  {
   "cell_type": "markdown",
   "id": "d24b57c9",
   "metadata": {},
   "source": [
    "Let's check if a match was found:"
   ]
  },
  {
   "cell_type": "code",
   "execution_count": 62,
   "id": "2f6b2c75",
   "metadata": {},
   "outputs": [
    {
     "name": "stdout",
     "output_type": "stream",
     "text": [
      "Match not found.\n"
     ]
    }
   ],
   "source": [
    "if result:\n",
    "    print(\"Match found!\")\n",
    "else:\n",
    "    print(\"Match not found.\")"
   ]
  },
  {
   "cell_type": "markdown",
   "id": "3437efcb",
   "metadata": {},
   "source": [
    "Specify a new pattern for **matching**:"
   ]
  },
  {
   "cell_type": "code",
   "execution_count": 63,
   "id": "1aba9b8d",
   "metadata": {},
   "outputs": [],
   "source": [
    "pattern = '[nN].P'"
   ]
  },
  {
   "cell_type": "markdown",
   "id": "5dbd4115",
   "metadata": {},
   "source": [
    "Let's see if we can find a matching pattern in our data:"
   ]
  },
  {
   "cell_type": "code",
   "execution_count": 64,
   "id": "3afa76d7",
   "metadata": {},
   "outputs": [],
   "source": [
    "result = re.match(pattern, data)"
   ]
  },
  {
   "cell_type": "markdown",
   "id": "250a6696",
   "metadata": {},
   "source": [
    "Let's check if a match was found:"
   ]
  },
  {
   "cell_type": "code",
   "execution_count": 65,
   "id": "c9f313b7",
   "metadata": {},
   "outputs": [
    {
     "name": "stdout",
     "output_type": "stream",
     "text": [
      "Match found!\n"
     ]
    }
   ],
   "source": [
    "if result:\n",
    "    print(\"Match found!\")\n",
    "else:\n",
    "    print(\"Match not found.\")"
   ]
  },
  {
   "cell_type": "markdown",
   "id": "26339f85",
   "metadata": {},
   "source": [
    "Set up a string variable for the text you want to process"
   ]
  },
  {
   "cell_type": "code",
   "execution_count": 67,
   "id": "f0e01b59",
   "metadata": {},
   "outputs": [],
   "source": [
    "data = 'Natural language processing (NLP) is a subfield of linguistics, computer science, and artificial intelligence concerned with the interactions between computers and human language, in particular how to program computers to process and analyze large amounts of natural language data. The goal is a computer capable of \\\"understanding\\\" the contents of documents, including the contextual nuances of the language within them. The technology can then accurately extract information and insights contained in the documents as well as categorize and organize the documents themselves.'"
   ]
  },
  {
   "cell_type": "markdown",
   "id": "f6019759",
   "metadata": {},
   "source": [
    "Specify a new pattern for **searching**:"
   ]
  },
  {
   "cell_type": "code",
   "execution_count": 68,
   "id": "2ee98549",
   "metadata": {},
   "outputs": [],
   "source": [
    "pattern = '[nN].P'"
   ]
  },
  {
   "cell_type": "markdown",
   "id": "016a5280",
   "metadata": {},
   "source": [
    "Let's see if we can search using this pattern in our data:"
   ]
  },
  {
   "cell_type": "code",
   "execution_count": 69,
   "id": "8af45e3d",
   "metadata": {},
   "outputs": [],
   "source": [
    "result = re.search(pattern, data)"
   ]
  },
  {
   "cell_type": "markdown",
   "id": "3a0f2eb6",
   "metadata": {},
   "source": [
    "Let's check if a matching string was found:"
   ]
  },
  {
   "cell_type": "code",
   "execution_count": 70,
   "id": "17af3d44",
   "metadata": {},
   "outputs": [
    {
     "name": "stdout",
     "output_type": "stream",
     "text": [
      "Match found!\n"
     ]
    }
   ],
   "source": [
    "if result:\n",
    "    print(\"Match found!\")\n",
    "else:\n",
    "    print(\"Match not found.\")"
   ]
  },
  {
   "cell_type": "code",
   "execution_count": 71,
   "id": "1f23d351",
   "metadata": {},
   "outputs": [
    {
     "name": "stdout",
     "output_type": "stream",
     "text": [
      "<re.Match object; span=(29, 32), match='NLP'>\n"
     ]
    }
   ],
   "source": [
    "print(result)"
   ]
  },
  {
   "cell_type": "markdown",
   "id": "56c13deb",
   "metadata": {},
   "source": [
    "Let's try to \"tokenize\" our data:"
   ]
  },
  {
   "cell_type": "code",
   "execution_count": 75,
   "id": "36dfc821",
   "metadata": {},
   "outputs": [],
   "source": [
    "tokens = re.split('\\s', data)"
   ]
  },
  {
   "cell_type": "markdown",
   "id": "f3b30405",
   "metadata": {},
   "source": [
    "Display \"tokens\""
   ]
  },
  {
   "cell_type": "code",
   "execution_count": 76,
   "id": "3d182cb5",
   "metadata": {},
   "outputs": [
    {
     "name": "stdout",
     "output_type": "stream",
     "text": [
      "['Natural', 'language', 'processing', '(NLP)', 'is', 'a', 'subfield', 'of', 'linguistics,', 'computer', 'science,', 'and', 'artificial', 'intelligence', 'concerned', 'with', 'the', 'interactions', 'between', 'computers', 'and', 'human', 'language,', 'in', 'particular', 'how', 'to', 'program', 'computers', 'to', 'process', 'and', 'analyze', 'large', 'amounts', 'of', 'natural', 'language', 'data.', 'The', 'goal', 'is', 'a', 'computer', 'capable', 'of', '\"understanding\"', 'the', 'contents', 'of', 'documents,', 'including', 'the', 'contextual', 'nuances', 'of', 'the', 'language', 'within', 'them.', 'The', 'technology', 'can', 'then', 'accurately', 'extract', 'information', 'and', 'insights', 'contained', 'in', 'the', 'documents', 'as', 'well', 'as', 'categorize', 'and', 'organize', 'the', 'documents', 'themselves.']\n"
     ]
    }
   ],
   "source": [
    "print(tokens)"
   ]
  }
 ],
 "metadata": {
  "kernelspec": {
   "display_name": "Python 3 (ipykernel)",
   "language": "python",
   "name": "python3"
  },
  "language_info": {
   "codemirror_mode": {
    "name": "ipython",
    "version": 3
   },
   "file_extension": ".py",
   "mimetype": "text/x-python",
   "name": "python",
   "nbconvert_exporter": "python",
   "pygments_lexer": "ipython3",
   "version": "3.8.12"
  }
 },
 "nbformat": 4,
 "nbformat_minor": 5
}
