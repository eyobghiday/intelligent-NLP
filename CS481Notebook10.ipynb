{
 "cells": [
  {
   "cell_type": "markdown",
   "id": "06dfa7c8",
   "metadata": {},
   "source": [
    "**CS481 Notebook 9**: Text corpora loading and simple analysis with NTLK"
   ]
  },
  {
   "cell_type": "markdown",
   "id": "477704f3",
   "metadata": {},
   "source": [
    "Import nltk package (and matplot for some graphs):"
   ]
  },
  {
   "cell_type": "code",
   "execution_count": 12,
   "id": "fe15ccc7",
   "metadata": {},
   "outputs": [],
   "source": [
    "import nltk\n",
    "import matplotlib.pyplot as plt\n",
    "from matplotlib.ticker import MaxNLocator\n",
    "from nltk.corpus import stopwords\n",
    "from nltk.tokenize import word_tokenize"
   ]
  },
  {
   "cell_type": "markdown",
   "id": "0c744a2f",
   "metadata": {},
   "source": [
    "In NLTK you can download (to your hardrive all available corpora at once with:"
   ]
  },
  {
   "cell_type": "code",
   "execution_count": 10,
   "id": "bcc3664c",
   "metadata": {},
   "outputs": [],
   "source": [
    "# nltk.download()"
   ]
  },
  {
   "cell_type": "markdown",
   "id": "ee9da17f",
   "metadata": {},
   "source": [
    "Or you can download them individually:"
   ]
  },
  {
   "cell_type": "code",
   "execution_count": 16,
   "id": "2dc24ae7",
   "metadata": {},
   "outputs": [
    {
     "name": "stderr",
     "output_type": "stream",
     "text": [
      "[nltk_data] Downloading package punkt to /Users/eyob/nltk_data...\n",
      "[nltk_data]   Unzipping tokenizers/punkt.zip.\n"
     ]
    },
    {
     "data": {
      "text/plain": [
       "True"
      ]
     },
     "execution_count": 16,
     "metadata": {},
     "output_type": "execute_result"
    }
   ],
   "source": [
    "nltk.download('brown')\n",
    "nltk.download('sample_grammars')\n",
    "nltk.download('reuters')\n",
    "nltk.download('stopwords')\n",
    "nltk.download('punkt')\n",
    "# You can add / download other corpora as well"
   ]
  },
  {
   "cell_type": "markdown",
   "id": "0cd51ec6",
   "metadata": {},
   "source": [
    "Let's pick our corpus to work with:"
   ]
  },
  {
   "cell_type": "code",
   "execution_count": 5,
   "id": "b9998178",
   "metadata": {},
   "outputs": [],
   "source": [
    "corpus = nltk.corpus.brown\n",
    "# corpus = nltk.corpus.gutenberg\n",
    "# corpus = nltk.corpus.reuters"
   ]
  },
  {
   "cell_type": "markdown",
   "id": "0b929eb5",
   "metadata": {},
   "source": [
    "Some corpora will have categories, some won't. Let's try to display available categories if any:"
   ]
  },
  {
   "cell_type": "code",
   "execution_count": 6,
   "id": "be2a33c2",
   "metadata": {
    "scrolled": true
   },
   "outputs": [
    {
     "name": "stdout",
     "output_type": "stream",
     "text": [
      "Text corpus categories:\n",
      "\n",
      "adventure\n",
      "belles_lettres\n",
      "editorial\n",
      "fiction\n",
      "government\n",
      "hobbies\n",
      "humor\n",
      "learned\n",
      "lore\n",
      "mystery\n",
      "news\n",
      "religion\n",
      "reviews\n",
      "romance\n",
      "science_fiction\n"
     ]
    }
   ],
   "source": [
    "try:\n",
    "    print('Text corpus categories:')\n",
    "    print()\n",
    "    for category in corpus.categories():\n",
    "        categoriesAvailable = True\n",
    "        print(category)\n",
    "except AttributeError :\n",
    "    print('No categories for this corpus.')\n",
    "    categoriesAvailable = False"
   ]
  },
  {
   "cell_type": "markdown",
   "id": "b3f22b62",
   "metadata": {},
   "source": [
    "Let's print out **sentences** (first 10) in the entire corpus:"
   ]
  },
  {
   "cell_type": "code",
   "execution_count": 20,
   "id": "627fc5dc",
   "metadata": {
    "scrolled": true
   },
   "outputs": [
    {
     "name": "stdout",
     "output_type": "stream",
     "text": [
      "The Fulton County Grand Jury said Friday an investigation of Atlanta's recent primary election produced `` no evidence '' that any irregularities took place .\n",
      "The jury further said in term-end presentments that the City Executive Committee , which had over-all charge of the election , `` deserves the praise and thanks of the City of Atlanta '' for the manner in which the election was conducted .\n",
      "The September-October term jury had been charged by Fulton Superior Court Judge Durwood Pye to investigate reports of possible `` irregularities '' in the hard-fought primary which was won by Mayor-nominate Ivan Allen Jr. .\n",
      "`` Only a relative handful of such reports was received '' , the jury said , `` considering the widespread interest in the election , the number of voters and the size of this city '' .\n",
      "The jury said it did find that many of Georgia's registration and election laws `` are outmoded or inadequate and often ambiguous '' .\n",
      "It recommended that Fulton legislators act `` to have these laws studied and revised to the end of modernizing and improving them '' .\n",
      "The grand jury commented on a number of other topics , among them the Atlanta and Fulton County purchasing departments which it said `` are well operated and follow generally accepted practices which inure to the best interest of both governments '' .\n",
      "Merger proposed\n",
      "However , the jury said it believes `` these two offices should be combined to achieve greater efficiency and reduce the cost of administration '' .\n",
      "The City Purchasing Department , the jury said , `` is lacking in experienced clerical personnel as a result of city personnel policies '' .\n"
     ]
    }
   ],
   "source": [
    "sentences = corpus.sents()\n",
    "for index in range(10):\n",
    "    print(' '.join(sentences[index]))"
   ]
  },
  {
   "cell_type": "code",
   "execution_count": 16,
   "id": "61eedd26",
   "metadata": {},
   "outputs": [],
   "source": [
    "#subCorpus = ntlk"
   ]
  },
  {
   "cell_type": "markdown",
   "id": "94bb4d64",
   "metadata": {},
   "source": [
    "All corpus **words** (tokens, really) can be extracted as follows:"
   ]
  },
  {
   "cell_type": "code",
   "execution_count": 25,
   "id": "44e84e0b",
   "metadata": {
    "scrolled": true
   },
   "outputs": [
    {
     "name": "stdout",
     "output_type": "stream",
     "text": [
      "['This', 'is', 'a', 'sample', 'sentence', ',', 'showing', 'off', 'the', 'stop', 'words', 'filtration', '.']\n",
      "['This', 'sample', 'sentence', ',', 'showing', 'stop', 'words', 'filtration', '.']\n"
     ]
    }
   ],
   "source": [
    "words = corpus.words()\n",
    "example_sent = \"\"\"This is a sample sentence,\n",
    "\t\t\t\tshowing off the stop words filtration.\"\"\"\n",
    "\n",
    "# stop_words = set(stopwords.words('english'))\n",
    "stop_words = set(stopwords.words('english'))\n",
    "word_tokens = word_tokenize(example_sent)\n",
    "\n",
    "filtered_sentence = [w for w in word_tokens if not w.lower() in stop_words]\n",
    "\n",
    "filtered_sentence = []\n",
    "\n",
    "for w in word_tokens:\n",
    "\tif w not in stop_words:\n",
    "\t\tfiltered_sentence.append(w)\n",
    "\n",
    "print(word_tokens)\n",
    "print(filtered_sentence)"
   ]
  },
  {
   "cell_type": "markdown",
   "id": "0dbbcd69",
   "metadata": {},
   "source": [
    "If we are interested in **frequency of word occurences** we can use NLTK's FreqDistribution function:"
   ]
  },
  {
   "cell_type": "code",
   "execution_count": 9,
   "id": "6dc52f90",
   "metadata": {
    "scrolled": true
   },
   "outputs": [],
   "source": [
    "frequencyDistribution = nltk.FreqDist(word.lower() for word in words) # note lowercasing with lower()"
   ]
  },
  {
   "cell_type": "markdown",
   "id": "c435a06e",
   "metadata": {},
   "source": [
    "Let me create a Python dictionary to hold WORDS and their FREQUENCY counts:"
   ]
  },
  {
   "cell_type": "code",
   "execution_count": 10,
   "id": "2e7e7934",
   "metadata": {},
   "outputs": [],
   "source": [
    "frequenciesAndWords = dict()"
   ]
  },
  {
   "cell_type": "code",
   "execution_count": 54,
   "id": "b0d429f7",
   "metadata": {},
   "outputs": [],
   "source": [
    "for word in words:\n",
    "    frequenciesAndWords[word] = frequencyDistribution[word]"
   ]
  },
  {
   "cell_type": "code",
   "execution_count": 55,
   "id": "571ed339",
   "metadata": {},
   "outputs": [
    {
     "name": "stdout",
     "output_type": "stream",
     "text": [
      "the   69971\n",
      ",   58334\n",
      ".   49346\n",
      "of   36412\n",
      "and   28853\n",
      "to   26158\n",
      "a   23195\n",
      "in   21337\n",
      "that   10594\n",
      "is   10109\n",
      "was   9815\n",
      "he   9548\n",
      "for   9489\n",
      "``   8837\n",
      "''   8789\n",
      "it   8760\n",
      "with   7289\n",
      "as   7253\n",
      "his   6996\n",
      "on   6741\n",
      "be   6377\n",
      ";   5566\n",
      "at   5372\n",
      "by   5306\n",
      "i   5164\n",
      "this   5145\n",
      "had   5133\n",
      "?   4693\n",
      "not   4610\n",
      "are   4394\n"
     ]
    }
   ],
   "source": [
    "frequenciesAndWords = list(frequenciesAndWords.items())\n",
    "frequenciesAndWords.sort(key = lambda a: a[1])\n",
    "frequenciesAndWords.reverse()\n",
    "\n",
    "# I can also break it back down:\n",
    "labels, frequencies = map(list, zip(*frequenciesAndWords))\n",
    "\n",
    "# let's display first thirty words with their frequencies:\n",
    "for index in range(30):\n",
    "    print(labels[index] , ' ', frequencies[index])"
   ]
  },
  {
   "cell_type": "markdown",
   "id": "c01843d3",
   "metadata": {},
   "source": [
    "Time for some plots:"
   ]
  },
  {
   "cell_type": "code",
   "execution_count": 32,
   "id": "67b70bbd",
   "metadata": {},
   "outputs": [
    {
     "data": {
      "image/png": "[encoded data removed]",
      "text/plain": [
       "<Figure size 1440x1440 with 1 Axes>"
      ]
     },
     "metadata": {
      "needs_background": "light"
     },
     "output_type": "display_data"
    }
   ],
   "source": [
    "numberOfWords = 30\n",
    "yPos = range(len(labels))\n",
    "plt.figure(figsize=(20,20))  #to increase the plot resolution\n",
    "\n",
    "plt.bar(yPos[:numberOfWords], frequencies[:numberOfWords], align = 'center', alpha=0.5)\n",
    "plt.xticks(yPos[:numberOfWords], labels[:numberOfWords])\n",
    "plt.title('Token frequency counts in corpus [first 30 tokens]')\n",
    "plt.xlabel('Word')\n",
    "plt.ylabel('Frequency count')\n",
    "plt.xticks(rotation=90)    #to rotate x-axis values\n",
    "\n",
    "plt.show()"
   ]
  },
  {
   "cell_type": "code",
   "execution_count": 33,
   "id": "b390885c",
   "metadata": {
    "scrolled": true
   },
   "outputs": [
    {
     "data": {
      "image/png": "[encoded data removed]",
      "text/plain": [
       "<Figure size 432x288 with 1 Axes>"
      ]
     },
     "metadata": {
      "needs_background": "light"
     },
     "output_type": "display_data"
    }
   ],
   "source": [
    "labels2 = labels[:200]\n",
    "frequencies2 = frequencies[:200]\n",
    "fig, ax = plt.subplots()\n",
    "xs = range(len(labels2))\n",
    "\n",
    "\n",
    "def format_fn(tick_val, tick_pos):\n",
    "    if int(tick_val) in xs:\n",
    "        return labels2[int(tick_val)]\n",
    "    else:\n",
    "        return ''\n",
    "\n",
    "\n",
    "# A FuncFormatter is created automatically.\n",
    "ax.xaxis.set_major_formatter(format_fn)\n",
    "ax.xaxis.set_major_locator(MaxNLocator(integer=True))\n",
    "#ax.set_yscale('log')\n",
    "ax.plot(xs, frequencies2)\n",
    "ax.set_title('Token frequency counts in corpus [first 200 tokens]')\n",
    "plt.xlabel('Word')\n",
    "plt.ylabel('Frequency count')\n",
    "plt.xticks(rotation=90)\n",
    "plt.show()"
   ]
  },
  {
   "cell_type": "code",
   "execution_count": 34,
   "id": "b896bc64",
   "metadata": {},
   "outputs": [
    {
     "data": {
      "image/png": "[encoded data removed]",
      "text/plain": [
       "<Figure size 432x288 with 1 Axes>"
      ]
     },
     "metadata": {
      "needs_background": "light"
     },
     "output_type": "display_data"
    }
   ],
   "source": [
    "labels2 = labels[:200]\n",
    "frequencies2 = frequencies[:200]\n",
    "fig, ax = plt.subplots()\n",
    "xs = range(len(labels2))\n",
    "labels2 = range(len(labels2))\n",
    "\n",
    "\n",
    "def format_fn(tick_val, tick_pos):\n",
    "    if int(tick_val) in xs:\n",
    "        return labels2[int(tick_val)]\n",
    "    else:\n",
    "        return ''\n",
    "\n",
    "\n",
    "# A FuncFormatter is created automatically.\n",
    "ax.xaxis.set_major_formatter(format_fn)\n",
    "ax.xaxis.set_major_locator(MaxNLocator(integer=True))\n",
    "#ax.set_yscale('log')\n",
    "ax.plot(xs, frequencies2)\n",
    "ax.set_title('Token frequency counts in corpus ranked [first 200 tokens]')\n",
    "plt.xlabel('Rank')\n",
    "plt.ylabel('Frequency count')\n",
    "plt.show()"
   ]
  },
  {
   "cell_type": "code",
   "execution_count": 35,
   "id": "2d560543",
   "metadata": {},
   "outputs": [
    {
     "data": {
      "image/png": "[encoded data removed]",
      "text/plain": [
       "<Figure size 432x288 with 1 Axes>"
      ]
     },
     "metadata": {
      "needs_background": "light"
     },
     "output_type": "display_data"
    }
   ],
   "source": [
    "labels2 = labels[:200]\n",
    "frequencies2 = frequencies[:200]\n",
    "fig, ax = plt.subplots()\n",
    "xs = range(len(labels))\n",
    "labels2 = range(len(labels))\n",
    "\n",
    "\n",
    "def format_fn(tick_val, tick_pos):\n",
    "    if int(tick_val) in xs:\n",
    "        return labels2[int(tick_val)]\n",
    "    else:\n",
    "        return ''\n",
    "\n",
    "\n",
    "# A FuncFormatter is created automatically.\n",
    "ax.xaxis.set_major_formatter(format_fn)\n",
    "ax.xaxis.set_major_locator(MaxNLocator(integer=True))\n",
    "#ax.set_yscale('log')\n",
    "ax.plot(xs, frequencies)\n",
    "ax.set_title('Token frequency counts in corpus ranked')\n",
    "ax.set_xscale('log')\n",
    "ax.set_yscale('log')\n",
    "plt.xlabel('log(Rank)')\n",
    "plt.ylabel('log(Frequency count)')\n",
    "plt.show()"
   ]
  },
  {
   "cell_type": "markdown",
   "id": "5a427065",
   "metadata": {},
   "source": [
    "Concordance example:"
   ]
  },
  {
   "cell_type": "code",
   "execution_count": 46,
   "id": "cd9afe6b",
   "metadata": {
    "scrolled": true
   },
   "outputs": [
    {
     "name": "stdout",
     "output_type": "stream",
     "text": [
      "Displaying 25 of 27 matches:\n",
      "only reiterated the United States' profound attachment to the alliance , `` co\n",
      "e not only religious dogma , but a profound and unshakable Weltanschauung . U \n",
      "ress to you , once again , his own profound determination to go to the Mainlan\n",
      " '' . It is both great writing and profound religion . N.C. has said something\n",
      "say that the idea of death is more profound in Irenaeus than the idea of sin i\n",
      " of the American people is clear , profound and far-reaching . To try to oppos\n",
      "rable . The idea seems to threaten profound , barely conscious assumptions . A\n",
      " to the cause of revolution with a profound respect for legality . John Adams \n",
      "er and playing with orchids . More profound and more disturbing , however , is\n",
      "Shakespeare's wit and wisdom , his profound insight into human nature , have s\n",
      " electorate would have caused us a profound moral shock . About this man we ha\n",
      "al structure we find an additional profound difference between the third and t\n",
      "y Shelley and Wordsworth . Hegel's profound admiration for the insights of the\n",
      "t Woodruff had done , and it had a profound effect on him . Once he learned a \n",
      "aches me to wonder '' . This was a profound statement . In the face of the unf\n",
      " seriously wrestling with the most profound questions of meaning and value . A\n",
      " merge . However , there is a more profound consideration to this proposed mer\n",
      " of the hypothalamic balance has a profound influence on the clinical behavior\n",
      "ugh the methods of deciding may be profound and diverse , the possible conclus\n",
      "perience . That which I found most profound and most disturbing appeared to ev\n",
      "f Emma Hardy in 1912 , which had a profound emotional effect on Hardy for whic\n",
      " bring me closer to a knowledge of profound sorrow than the breakup of camp , \n",
      "d it , they thought it exceedingly profound , though none of them understood i\n",
      "mall Polish nobleman with a really profound distaste for his pupils ; ; there \n",
      " and its beauties , reflecting its profound religious impulses . He was a prop\n"
     ]
    }
   ],
   "source": [
    "corpusAsText = nltk.Text(corpus.words())\n",
    "corpusAsText.concordance('profound')"
   ]
  },
  {
   "cell_type": "code",
   "execution_count": null,
   "id": "fcc27565",
   "metadata": {},
   "outputs": [],
   "source": []
  },
  {
   "cell_type": "code",
   "execution_count": null,
   "id": "f4bd55e2",
   "metadata": {},
   "outputs": [],
   "source": []
  }
 ],
 "metadata": {
  "kernelspec": {
   "display_name": "Python 3 (ipykernel)",
   "language": "python",
   "name": "python3"
  },
  "language_info": {
   "codemirror_mode": {
    "name": "ipython",
    "version": 3
   },
   "file_extension": ".py",
   "mimetype": "text/x-python",
   "name": "python",
   "nbconvert_exporter": "python",
   "pygments_lexer": "ipython3",
   "version": "3.8.12"
  }
 },
 "nbformat": 4,
 "nbformat_minor": 5
}
