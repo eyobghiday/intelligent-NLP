{
 "cells": [
  {
   "cell_type": "markdown",
   "id": "06dfa7c8",
   "metadata": {},
   "source": [
    "**CS481 Notebook 9**: Text corpora loading and simple analysis with NTLK"
   ]
  },
  {
   "cell_type": "markdown",
   "id": "477704f3",
   "metadata": {},
   "source": [
    "Import nltk package (and matplot for some graphs):"
   ]
  },
  {
   "cell_type": "code",
   "execution_count": 32,
   "id": "fe15ccc7",
   "metadata": {},
   "outputs": [],
   "source": [
    "imort re\n",
    "import nltk\n",
    "import matplotlib.pyplot as plt\n",
    "from matplotlib.ticker import MaxNLocator"
   ]
  },
  {
   "cell_type": "markdown",
   "id": "0c744a2f",
   "metadata": {},
   "source": [
    "In NLTK you can download (to your hardrive all available corpora at once with:"
   ]
  },
  {
   "cell_type": "code",
   "execution_count": 4,
   "id": "bcc3664c",
   "metadata": {},
   "outputs": [],
   "source": [
    "# nltk.download()"
   ]
  },
  {
   "cell_type": "markdown",
   "id": "ee9da17f",
   "metadata": {},
   "source": [
    "Or you can download them individually:"
   ]
  },
  {
   "cell_type": "code",
   "execution_count": 34,
   "id": "2dc24ae7",
   "metadata": {},
   "outputs": [
    {
     "name": "stderr",
     "output_type": "stream",
     "text": [
      "[nltk_data] Downloading package gutenberg to /Users/eyob/nltk_data...\n",
      "[nltk_data]   Package gutenberg is already up-to-date!\n"
     ]
    },
    {
     "data": {
      "text/plain": [
       "True"
      ]
     },
     "execution_count": 34,
     "metadata": {},
     "output_type": "execute_result"
    }
   ],
   "source": [
    "# nltk.download('brown')\n",
    "nltk.download('gutenberg')\n",
    "# nltk.download('reuters')\n",
    "# You can add / download other corpora as well"
   ]
  },
  {
   "cell_type": "markdown",
   "id": "0cd51ec6",
   "metadata": {},
   "source": [
    "Let's pick our corpus to work with:"
   ]
  },
  {
   "cell_type": "code",
   "execution_count": 35,
   "id": "b9998178",
   "metadata": {},
   "outputs": [],
   "source": [
    "corpus = nltk.corpus.gutenberg\n",
    "# corpus = nltk.corpus.gutenberg\n",
    "# corpus = nltk.corpus.reuters"
   ]
  },
  {
   "cell_type": "markdown",
   "id": "0b929eb5",
   "metadata": {},
   "source": [
    "Some corpora will have categories, some won't. Let's try to display available categories if any:"
   ]
  },
  {
   "cell_type": "code",
   "execution_count": 36,
   "id": "be2a33c2",
   "metadata": {
    "scrolled": true
   },
   "outputs": [
    {
     "name": "stdout",
     "output_type": "stream",
     "text": [
      "Text corpus categories:\n",
      "\n",
      "No categories for this corpus.\n"
     ]
    }
   ],
   "source": [
    "try:\n",
    "    print('Text corpus categories:')\n",
    "    print()\n",
    "    for category in corpus.categories():\n",
    "        categoriesAvailable = True\n",
    "        print(category)\n",
    "except AttributeError :\n",
    "    print('No categories for this corpus.')\n",
    "    categoriesAvailable = False"
   ]
  },
  {
   "cell_type": "markdown",
   "id": "0d7696f4",
   "metadata": {},
   "source": [
    "Let's print out **sentences** (first 10) in the entire corpus:"
   ]
  },
  {
   "cell_type": "code",
   "execution_count": 37,
   "id": "1f534133",
   "metadata": {
    "scrolled": true
   },
   "outputs": [
    {
     "name": "stdout",
     "output_type": "stream",
     "text": [
      "[ Emma by Jane Austen 1816 ]\n",
      "VOLUME I\n",
      "CHAPTER I\n",
      "Emma Woodhouse , handsome , clever , and rich , with a comfortable home and happy disposition , seemed to unite some of the best blessings of existence ; and had lived nearly twenty - one years in the world with very little to distress or vex her .\n",
      "She was the youngest of the two daughters of a most affectionate , indulgent father ; and had , in consequence of her sister ' s marriage , been mistress of his house from a very early period .\n",
      "Her mother had died too long ago for her to have more than an indistinct remembrance of her caresses ; and her place had been supplied by an excellent woman as governess , who had fallen little short of a mother in affection .\n",
      "Sixteen years had Miss Taylor been in Mr . Woodhouse ' s family , less as a governess than a friend , very fond of both daughters , but particularly of Emma .\n",
      "Between _them_ it was more the intimacy of sisters .\n",
      "Even before Miss Taylor had ceased to hold the nominal office of governess , the mildness of her temper had hardly allowed her to impose any restraint ; and the shadow of authority being now long passed away , they had been living together as friend and friend very mutually attached , and Emma doing just what she liked ; highly esteeming Miss Taylor ' s judgment , but directed chiefly by her own .\n",
      "The real evils , indeed , of Emma ' s situation were the power of having rather too much her own way , and a disposition to think a little too well of herself ; these were the disadvantages which threatened alloy to her many enjoyments .\n"
     ]
    }
   ],
   "source": [
    "sentences = corpus.sents()\n",
    "for index in range(10):\n",
    "    print(' '.join(sentences[index]))"
   ]
  },
  {
   "cell_type": "code",
   "execution_count": 38,
   "id": "61eedd26",
   "metadata": {},
   "outputs": [],
   "source": [
    "#subCorpus = ntlk"
   ]
  },
  {
   "cell_type": "markdown",
   "id": "945a84f3",
   "metadata": {},
   "source": [
    "Before we proceed, let's eliminate stop words. NLTK has a stopwords corpus:"
   ]
  },
  {
   "cell_type": "code",
   "execution_count": 39,
   "id": "8e480f38",
   "metadata": {
    "scrolled": true
   },
   "outputs": [
    {
     "name": "stderr",
     "output_type": "stream",
     "text": [
      "[nltk_data] Downloading package stopwords to /Users/eyob/nltk_data...\n",
      "[nltk_data]   Package stopwords is already up-to-date!\n"
     ]
    }
   ],
   "source": [
    "nltk.download('stopwords')\n",
    "stopWordsCorpus = nltk.corpus.stopwords.words('english')"
   ]
  },
  {
   "cell_type": "markdown",
   "id": "ee5ed402",
   "metadata": {},
   "source": [
    "All corpus **words** (tokens, really) can be extracted as follows:"
   ]
  },
  {
   "cell_type": "code",
   "execution_count": 40,
   "id": "44e84e0b",
   "metadata": {
    "scrolled": true
   },
   "outputs": [],
   "source": [
    "words = corpus.words()"
   ]
  },
  {
   "cell_type": "markdown",
   "id": "9aff9e7a",
   "metadata": {},
   "source": [
    "Let's update the list of words by eliminating stopwords:"
   ]
  },
  {
   "cell_type": "code",
   "execution_count": 41,
   "id": "f10ce68d",
   "metadata": {},
   "outputs": [],
   "source": [
    "words = [w for w in words if w.lower() not in stopWordsCorpus]"
   ]
  },
  {
   "cell_type": "markdown",
   "id": "019923b7",
   "metadata": {},
   "source": [
    "If we are interested in **frequency of word occurences** we can use NLTK's FreqDistribution function:"
   ]
  },
  {
   "cell_type": "code",
   "execution_count": 42,
   "id": "6dc52f90",
   "metadata": {
    "scrolled": true
   },
   "outputs": [],
   "source": [
    "frequencyDistribution = nltk.FreqDist(word.lower() for word in words) # note lowercasing with lower()"
   ]
  },
  {
   "cell_type": "markdown",
   "id": "7f37e1ec",
   "metadata": {},
   "source": [
    "Let me create a Python dictionary to hold WORDS and their FREQUENCY counts:"
   ]
  },
  {
   "cell_type": "code",
   "execution_count": 43,
   "id": "2e7e7934",
   "metadata": {},
   "outputs": [],
   "source": [
    "frequenciesAndWords = dict()"
   ]
  },
  {
   "cell_type": "code",
   "execution_count": 44,
   "id": "b0d429f7",
   "metadata": {},
   "outputs": [],
   "source": [
    "for word in words:\n",
    "    frequenciesAndWords[word] = frequencyDistribution[word]"
   ]
  },
  {
   "cell_type": "code",
   "execution_count": 45,
   "id": "571ed339",
   "metadata": {},
   "outputs": [
    {
     "name": "stdout",
     "output_type": "stream",
     "text": [
      ",   186091\n",
      ".   73746\n",
      ":   47406\n",
      ";   27329\n",
      "'   19873\n",
      "\"   15422\n",
      "shall   11682\n",
      "said   9429\n",
      "unto   9010\n",
      "-   8850\n"
     ]
    }
   ],
   "source": [
    "frequenciesAndWords = list(frequenciesAndWords.items())\n",
    "frequenciesAndWords.sort(key = lambda a: a[1])\n",
    "frequenciesAndWords.reverse()\n",
    "\n",
    "# I can also break it back down:\n",
    "labels, frequencies = map(list, zip(*frequenciesAndWords))\n",
    "\n",
    "# let's display first thirty words with their frequencies:\n",
    "for index in range(10):\n",
    "    print(labels[index] , ' ', frequencies[index])"
   ]
  },
  {
   "cell_type": "markdown",
   "id": "de61a8d9",
   "metadata": {},
   "source": [
    "Time for some plots:"
   ]
  },
  {
   "cell_type": "code",
   "execution_count": 46,
   "id": "1cd67767",
   "metadata": {},
   "outputs": [
    {
     "data": {
      "image/png": "[encoded data removed]",
      "text/plain": [
       "<Figure size 1440x1440 with 1 Axes>"
      ]
     },
     "metadata": {
      "needs_background": "light"
     },
     "output_type": "display_data"
    }
   ],
   "source": [
    "numberOfWords = 30\n",
    "yPos = range(len(labels))\n",
    "plt.figure(figsize=(20,20))  #to increase the plot resolution\n",
    "\n",
    "plt.bar(yPos[:numberOfWords], frequencies[:numberOfWords], align = 'center', alpha=0.5)\n",
    "plt.xticks(yPos[:numberOfWords], labels[:numberOfWords])\n",
    "plt.title('Token frequency counts in corpus [first 30 tokens]')\n",
    "plt.xlabel('Word')\n",
    "plt.ylabel('Frequency count')\n",
    "plt.xticks(rotation=90)    #to rotate x-axis values\n",
    "\n",
    "plt.show()"
   ]
  },
  {
   "cell_type": "code",
   "execution_count": 47,
   "id": "b390885c",
   "metadata": {
    "scrolled": true
   },
   "outputs": [
    {
     "data": {
      "image/png": "[encoded data removed]",
      "text/plain": [
       "<Figure size 432x288 with 1 Axes>"
      ]
     },
     "metadata": {
      "needs_background": "light"
     },
     "output_type": "display_data"
    }
   ],
   "source": [
    "labels2 = labels[:200]\n",
    "frequencies2 = frequencies[:200]\n",
    "fig, ax = plt.subplots()\n",
    "xs = range(len(labels2))\n",
    "\n",
    "\n",
    "def format_fn(tick_val, tick_pos):\n",
    "    if int(tick_val) in xs:\n",
    "        return labels2[int(tick_val)]\n",
    "    else:\n",
    "        return ''\n",
    "\n",
    "\n",
    "# A FuncFormatter is created automatically.\n",
    "ax.xaxis.set_major_formatter(format_fn)\n",
    "ax.xaxis.set_major_locator(MaxNLocator(integer=True))\n",
    "#ax.set_yscale('log')\n",
    "ax.plot(xs, frequencies2)\n",
    "ax.set_title('Token frequency counts in corpus [first 200 tokens]')\n",
    "plt.xlabel('Word')\n",
    "plt.ylabel('Frequency count')\n",
    "plt.xticks(rotation=90)\n",
    "plt.show()"
   ]
  },
  {
   "cell_type": "code",
   "execution_count": 48,
   "id": "b896bc64",
   "metadata": {},
   "outputs": [
    {
     "data": {
      "image/png": "[encoded data removed]",
      "text/plain": [
       "<Figure size 432x288 with 1 Axes>"
      ]
     },
     "metadata": {
      "needs_background": "light"
     },
     "output_type": "display_data"
    }
   ],
   "source": [
    "labels2 = labels[:200]\n",
    "frequencies2 = frequencies[:200]\n",
    "fig, ax = plt.subplots()\n",
    "xs = range(len(labels2))\n",
    "labels2 = range(len(labels2))\n",
    "\n",
    "\n",
    "def format_fn(tick_val, tick_pos):\n",
    "    if int(tick_val) in xs:\n",
    "        return labels2[int(tick_val)]\n",
    "    else:\n",
    "        return ''\n",
    "\n",
    "\n",
    "# A FuncFormatter is created automatically.\n",
    "ax.xaxis.set_major_formatter(format_fn)\n",
    "ax.xaxis.set_major_locator(MaxNLocator(integer=True))\n",
    "#ax.set_yscale('log')\n",
    "ax.plot(xs, frequencies2)\n",
    "ax.set_title('Token frequency counts in corpus ranked [first 200 tokens]')\n",
    "plt.xlabel('Rank')\n",
    "plt.ylabel('Frequency count')\n",
    "plt.show()"
   ]
  },
  {
   "cell_type": "code",
   "execution_count": 49,
   "id": "2d560543",
   "metadata": {},
   "outputs": [
    {
     "data": {
      "image/png": "[encoded data removed]",
      "text/plain": [
       "<Figure size 432x288 with 1 Axes>"
      ]
     },
     "metadata": {
      "needs_background": "light"
     },
     "output_type": "display_data"
    }
   ],
   "source": [
    "labels2 = labels[:200]\n",
    "frequencies2 = frequencies[:200]\n",
    "fig, ax = plt.subplots()\n",
    "xs = range(len(labels))\n",
    "labels2 = range(len(labels))\n",
    "\n",
    "\n",
    "def format_fn(tick_val, tick_pos):\n",
    "    if int(tick_val) in xs:\n",
    "        return labels2[int(tick_val)]\n",
    "    else:\n",
    "        return ''\n",
    "\n",
    "\n",
    "# A FuncFormatter is created automatically.\n",
    "ax.xaxis.set_major_formatter(format_fn)\n",
    "ax.xaxis.set_major_locator(MaxNLocator(integer=True))\n",
    "#ax.set_yscale('log')\n",
    "ax.plot(xs, frequencies)\n",
    "ax.set_title('Token frequency counts in corpus ranked')\n",
    "ax.set_xscale('log')\n",
    "ax.set_yscale('log')\n",
    "plt.xlabel('log(Rank)')\n",
    "plt.ylabel('log(Frequency count)')\n",
    "plt.show()"
   ]
  },
  {
   "cell_type": "markdown",
   "id": "ef1faae6",
   "metadata": {},
   "source": [
    "Concordance example:"
   ]
  },
  {
   "cell_type": "code",
   "execution_count": 50,
   "id": "cd9afe6b",
   "metadata": {
    "scrolled": true
   },
   "outputs": [
    {
     "name": "stdout",
     "output_type": "stream",
     "text": [
      "Displaying 25 of 37 matches:\n",
      "to be let . This , however , was a profound secret , not to be breathed beyond\n",
      "abor . 5 : 2 And the revolters are profound to make slaughter , though I have \n",
      "he Beetle raised his head from his profound bow , his gaze happened to alight \n",
      "nbull had all his life professed a profound interest in physical science , and\n",
      " him , as if it were compounded of profound colour . His black coat looked as \n",
      "oveit stood for nearly a minute in profound silence . \" Tarlton ,\" said he at \n",
      "se , nearly every man maintained a profound silence . And not only that , but \n",
      "he told me -- he was actuated by a profound desire to learn among the Christia\n",
      "he Pequod , we found everything in profound quiet , not a soul moving . The ca\n",
      "g priority of his claims , and the profound ignorance which , till some sevent\n",
      " was not so much immersed in those profound magnetic meditations , as to fail \n",
      "ze profundities , and all truth is profound . Winding far down from within the\n",
      " take away any incredulity which a profound ignorance of the entire subject ma\n",
      "ning to cut it in two ; the sudden profound dip into the watery glens and holl\n",
      "er as they softly ran on ; in this profound hush of the visible sphere a stran\n",
      "er pierce you out . Again : as the profound calm which only apparently precede\n",
      "t side ; while all between must be profound darkness and nothingness to him . \n",
      ", and surround each by a circle of profound darkness ; then , in order to see \n",
      " turn into his hammock at night in profound darkness -- his last drop of Breme\n",
      "e to say ? Seldom have I known any profound being that had anything to say to \n",
      "mes are . He is both ponderous and profound . And I am convinced that from the\n",
      "at from the heads of all ponderous profound beings , such as Plato , Pyrrho , \n",
      "iron lips . It is a place also for profound mathematical meditation . It was i\n",
      "ef , and bread , during which many profound thoughts were incidentally suggest\n",
      " of his angry flukes ; only on the profound unbounded sea , can the fully inve\n"
     ]
    }
   ],
   "source": [
    "corpusAsText = nltk.Text(corpus.words())\n",
    "corpusAsText.concordance('profound')"
   ]
  },
  {
   "cell_type": "code",
   "execution_count": 55,
   "id": "939a3e16-b31c-40e6-87c8-a118cbf35f8c",
   "metadata": {},
   "outputs": [
    {
     "name": "stdout",
     "output_type": "stream",
     "text": [
      "6.606719496197998e-07 5.780879559173249e-07\n"
     ]
    }
   ],
   "source": [
    "word=corpus.words()\n",
    "data= \" \".join(word)\n",
    "data = data.lower()\n",
    "technical = \"navigation\"\n",
    "nontechnical = \"hello\"\n",
    "t=data.count(technical)\n",
    "d1=t/len(data)\n",
    "n=data.count(nontechnical)\n",
    "d2=n/len(data)\n",
    "print(d1,d2)"
   ]
  },
  {
   "cell_type": "code",
   "execution_count": null,
   "id": "238e0b72-8876-46f1-87f7-2f5ec5bd102b",
   "metadata": {},
   "outputs": [],
   "source": []
  }
 ],
 "metadata": {
  "kernelspec": {
   "display_name": "Python 3 (ipykernel)",
   "language": "python",
   "name": "python3"
  },
  "language_info": {
   "codemirror_mode": {
    "name": "ipython",
    "version": 3
   },
   "file_extension": ".py",
   "mimetype": "text/x-python",
   "name": "python",
   "nbconvert_exporter": "python",
   "pygments_lexer": "ipython3",
   "version": "3.8.12"
  }
 },
 "nbformat": 4,
 "nbformat_minor": 5
}
