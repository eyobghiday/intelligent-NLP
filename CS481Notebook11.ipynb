{
 "cells": [
  {
   "cell_type": "markdown",
   "id": "32718417",
   "metadata": {},
   "source": [
    "**CS481 Notebook 11**: NLTK with WordNet - Word senses and synonyms"
   ]
  },
  {
   "cell_type": "markdown",
   "id": "2a046eda",
   "metadata": {},
   "source": [
    "Import nltk first"
   ]
  },
  {
   "cell_type": "code",
   "execution_count": 1,
   "id": "0b1f14cc",
   "metadata": {},
   "outputs": [],
   "source": [
    "import nltk"
   ]
  },
  {
   "cell_type": "markdown",
   "id": "b3a49844",
   "metadata": {},
   "source": [
    "Set up WordNet corpus:"
   ]
  },
  {
   "cell_type": "code",
   "execution_count": 5,
   "id": "dc2742e5",
   "metadata": {},
   "outputs": [
    {
     "name": "stderr",
     "output_type": "stream",
     "text": [
      "[nltk_data] Downloading package wordnet to\n",
      "[nltk_data]     C:\\Users\\dzikjac\\AppData\\Roaming\\nltk_data...\n",
      "[nltk_data]   Unzipping corpora\\wordnet.zip.\n"
     ]
    }
   ],
   "source": [
    "nltk.download('wordnet') # we need to download the WordNet corpus first\n",
    "wordNetCorpus = nltk.corpus.wordnet"
   ]
  },
  {
   "cell_type": "markdown",
   "id": "9cef189b",
   "metadata": {},
   "source": [
    "Let's pick a word:"
   ]
  },
  {
   "cell_type": "code",
   "execution_count": 144,
   "id": "3353a5f8",
   "metadata": {},
   "outputs": [],
   "source": [
    "word = 'heart'"
   ]
  },
  {
   "cell_type": "markdown",
   "id": "61d58102",
   "metadata": {},
   "source": [
    "Let's find **Synonym Sets** for our word within Wordnet"
   ]
  },
  {
   "cell_type": "code",
   "execution_count": 145,
   "id": "bb613451",
   "metadata": {},
   "outputs": [],
   "source": [
    "wordSynsets = wordNetCorpus.synsets(word)"
   ]
  },
  {
   "cell_type": "markdown",
   "id": "557b566b",
   "metadata": {},
   "source": [
    "This code will display all found synset names:"
   ]
  },
  {
   "cell_type": "code",
   "execution_count": 180,
   "id": "0ae6ee6e",
   "metadata": {
    "scrolled": true
   },
   "outputs": [
    {
     "name": "stdout",
     "output_type": "stream",
     "text": [
      "Synonym structure name:  heart.n.01\n",
      "Synonyms(s):  ['heart', 'bosom']\n",
      "Synonym structure name:  heart.n.02\n",
      "Synonyms(s):  ['heart', 'pump', 'ticker']\n",
      "Synonym structure name:  heart.n.03\n",
      "Synonyms(s):  ['heart', 'mettle', 'nerve', 'spunk']\n",
      "Synonym structure name:  center.n.01\n",
      "Synonyms(s):  ['center', 'centre', 'middle', 'heart', 'eye']\n",
      "Synonym structure name:  kernel.n.03\n",
      "Synonyms(s):  ['kernel', 'substance', 'core', 'center', 'centre', 'essence', 'gist', 'heart', 'heart_and_soul', 'inwardness', 'marrow', 'meat', 'nub', 'pith', 'sum', 'nitty-gritty']\n",
      "Synonym structure name:  heart.n.06\n",
      "Synonyms(s):  ['heart', 'spirit']\n",
      "Synonym structure name:  heart.n.07\n",
      "Synonyms(s):  ['heart']\n",
      "Synonym structure name:  heart.n.08\n",
      "Synonyms(s):  ['heart']\n",
      "Synonym structure name:  affection.n.01\n",
      "Synonyms(s):  ['affection', 'affectionateness', 'fondness', 'tenderness', 'heart', 'warmness', 'warmheartedness', 'philia']\n",
      "Synonym structure name:  heart.n.10\n",
      "Synonyms(s):  ['heart']\n"
     ]
    }
   ],
   "source": [
    "for synSet in wordSynsets:\n",
    "    print('Synonym structure name: ', synSet.name())\n",
    "    print('Synonyms(s): ', synSet.lemma_names())"
   ]
  },
  {
   "cell_type": "markdown",
   "id": "3845cce8",
   "metadata": {},
   "source": [
    "The more **Synonym Sets** for a word, the more ambiguous it is."
   ]
  },
  {
   "cell_type": "markdown",
   "id": "b88673ed",
   "metadata": {},
   "source": [
    "We can also take a look at definitions of all **senses** / **synonyms**:"
   ]
  },
  {
   "cell_type": "code",
   "execution_count": 147,
   "id": "0bc09e66",
   "metadata": {},
   "outputs": [
    {
     "name": "stdout",
     "output_type": "stream",
     "text": [
      "the locus of feelings and intuitions\n",
      "the hollow muscular organ located behind the sternum and between the lungs; its rhythmic contractions move the blood through the body\n",
      "the courage to carry on\n",
      "an area that is approximately central within some larger region\n",
      "the choicest or most essential or most vital part of some idea or experience\n",
      "an inclination or tendency of a certain kind\n",
      "a plane figure with rounded sides curving inward at the top and intersecting at the bottom; conventionally used on playing cards and valentines\n",
      "a firm rather dry variety meat (usually beef or veal)\n",
      "a positive feeling of liking\n",
      "a playing card in the major suit that has one or more red hearts on it\n"
     ]
    }
   ],
   "source": [
    "for synSet in wordSynsets:\n",
    "    print(synSet.definition())"
   ]
  },
  {
   "cell_type": "markdown",
   "id": "6f6a0796",
   "metadata": {},
   "source": [
    "OK, why don't we check some example use for each **sense** / **synonym**:"
   ]
  },
  {
   "cell_type": "code",
   "execution_count": 148,
   "id": "1a6fa79a",
   "metadata": {},
   "outputs": [
    {
     "name": "stdout",
     "output_type": "stream",
     "text": [
      "['in your heart you know it is true', 'her story would melt your bosom']\n",
      "['he stood still, his heart thumping wildly']\n",
      "['he kept fighting on pure spunk', \"you haven't got the heart for baseball\"]\n",
      "['it is in the center of town', 'they ran forward into the heart of the struggle', 'they were in the eye of the storm']\n",
      "[\"the gist of the prosecutor's argument\", 'the heart and soul of the Republican Party', 'the nub of the story']\n",
      "['he had a change of heart']\n",
      "['he drew a heart and called it a valentine']\n",
      "['a five-pound beef heart will serve six']\n",
      "['he had trouble expressing the affection he felt', \"the child won everyone's heart\", 'the warmness of his welcome made us feel right at home']\n",
      "['he led the queen of hearts', 'hearts were trumps']\n"
     ]
    }
   ],
   "source": [
    "for synSet in wordSynsets:\n",
    "    print(synSet.examples())"
   ]
  },
  {
   "cell_type": "markdown",
   "id": "0c84bf86",
   "metadata": {},
   "source": []
  },
  {
   "cell_type": "code",
   "execution_count": 149,
   "id": "8490ec17",
   "metadata": {},
   "outputs": [
    {
     "name": "stdout",
     "output_type": "stream",
     "text": [
      "['heart', 'bosom']\n",
      "['heart', 'pump', 'ticker']\n",
      "['heart', 'mettle', 'nerve', 'spunk']\n",
      "['center', 'centre', 'middle', 'heart', 'eye']\n",
      "['kernel', 'substance', 'core', 'center', 'centre', 'essence', 'gist', 'heart', 'heart_and_soul', 'inwardness', 'marrow', 'meat', 'nub', 'pith', 'sum', 'nitty-gritty']\n",
      "['heart', 'spirit']\n",
      "['heart']\n",
      "['heart']\n",
      "['affection', 'affectionateness', 'fondness', 'tenderness', 'heart', 'warmness', 'warmheartedness', 'philia']\n",
      "['heart']\n"
     ]
    }
   ],
   "source": [
    "for synSet in wordSynsets:\n",
    "    print(synSet.lemma_names())"
   ]
  },
  {
   "cell_type": "markdown",
   "id": "511742a4",
   "metadata": {},
   "source": [
    "We found synonyms, why don't we try finding **antonyms** (an antonym for X is a word representing something opposite to X) for each lemma:"
   ]
  },
  {
   "cell_type": "code",
   "execution_count": 176,
   "id": "644360a3",
   "metadata": {
    "scrolled": true
   },
   "outputs": [],
   "source": [
    "for synSet in wordSynsets:\n",
    "    for synSetLemma in synSet.lemmas():\n",
    "        if synSetLemma.antonyms():\n",
    "            for antonym in synSetLemma.antonyms():\n",
    "                print('Antonym structure name: ', antonym.name())\n",
    "                print('Antonym(s): ', antonym.lemma_names())\n",
    "        # else:\n",
    "           # print('No antonyms for ', synSet.name(), '.')"
   ]
  },
  {
   "cell_type": "markdown",
   "id": "4327c9ce",
   "metadata": {},
   "source": [
    "How about some **entailments** (relationships between verbs):"
   ]
  },
  {
   "cell_type": "code",
   "execution_count": 177,
   "id": "6c72d661",
   "metadata": {},
   "outputs": [],
   "source": [
    "for synSet in wordSynsets:\n",
    "    if synSet.entailments():\n",
    "        for entailment in synSet.entailments():\n",
    "            print('Entailment structure name: ', entailment.name())\n",
    "            print('Entailment(s): ', entailment.lemma_names())\n",
    "    #else:\n",
    "     #   print('No entailments for ', synSet.name(), '.')"
   ]
  },
  {
   "cell_type": "markdown",
   "id": "3872ced8",
   "metadata": {},
   "source": [
    "Let's check **hyponyms** (related but more specific concepts):"
   ]
  },
  {
   "cell_type": "code",
   "execution_count": 178,
   "id": "00229ff9",
   "metadata": {},
   "outputs": [
    {
     "name": "stdout",
     "output_type": "stream",
     "text": [
      "Hyponym structure name:  athlete's_heart.n.01\n",
      "Hyponym(s):  [\"athlete's_heart\"]\n",
      "Hyponym structure name:  biauriculate_heart.n.01\n",
      "Hyponym(s):  ['biauriculate_heart']\n",
      "Hyponym structure name:  center_stage.n.02\n",
      "Hyponym(s):  ['center_stage', 'centre_stage']\n",
      "Hyponym structure name:  city_center.n.01\n",
      "Hyponym(s):  ['city_center', 'city_centre', 'central_city']\n",
      "Hyponym structure name:  financial_center.n.01\n",
      "Hyponym(s):  ['financial_center']\n",
      "Hyponym structure name:  hub.n.02\n",
      "Hyponym(s):  ['hub']\n",
      "Hyponym structure name:  inner_city.n.01\n",
      "Hyponym(s):  ['inner_city']\n",
      "Hyponym structure name:  medical_center.n.01\n",
      "Hyponym(s):  ['medical_center']\n",
      "Hyponym structure name:  midfield.n.01\n",
      "Hyponym(s):  ['midfield']\n",
      "Hyponym structure name:  midstream.n.01\n",
      "Hyponym(s):  ['midstream']\n",
      "Hyponym structure name:  seat.n.05\n",
      "Hyponym(s):  ['seat']\n",
      "Hyponym structure name:  storm_center.n.02\n",
      "Hyponym(s):  ['storm_center', 'storm_centre']\n",
      "Hyponym structure name:  bare_bones.n.01\n",
      "Hyponym(s):  ['bare_bones']\n",
      "Hyponym structure name:  hypostasis.n.04\n",
      "Hyponym(s):  ['hypostasis']\n",
      "Hyponym structure name:  quiddity.n.02\n",
      "Hyponym(s):  ['quiddity', 'haecceity']\n",
      "Hyponym structure name:  quintessence.n.02\n",
      "Hyponym(s):  ['quintessence']\n",
      "Hyponym structure name:  stuff.n.07\n",
      "Hyponym(s):  ['stuff']\n",
      "Hyponym structure name:  attachment.n.01\n",
      "Hyponym(s):  ['attachment', 'fond_regard']\n",
      "Hyponym structure name:  protectiveness.n.01\n",
      "Hyponym(s):  ['protectiveness']\n",
      "Hyponym structure name:  regard.n.06\n",
      "Hyponym(s):  ['regard', 'respect']\n",
      "Hyponym structure name:  soft_spot.n.02\n",
      "Hyponym(s):  ['soft_spot']\n"
     ]
    }
   ],
   "source": [
    "for synSet in wordSynsets:\n",
    "    if synSet.hyponyms():\n",
    "        for hyponym in synSet.hyponyms():\n",
    "            print('Hyponym structure name: ', hyponym.name())\n",
    "            print('Hyponym(s): ', hyponym.lemma_names())"
   ]
  },
  {
   "cell_type": "markdown",
   "id": "cb3587f5",
   "metadata": {},
   "source": [
    "Time for **meronyms** (a meronym of X is a word representing a component of X): "
   ]
  },
  {
   "cell_type": "code",
   "execution_count": 166,
   "id": "58f4bcf9",
   "metadata": {},
   "outputs": [
    {
     "name": "stdout",
     "output_type": "stream",
     "text": [
      "cardiac_muscle.n.01\n",
      "Hyponym(s):  ['soft_spot']\n",
      "coronary_artery.n.01\n",
      "Hyponym(s):  ['soft_spot']\n",
      "heart_valve.n.01\n",
      "Hyponym(s):  ['soft_spot']\n",
      "valve.n.01\n",
      "Hyponym(s):  ['soft_spot']\n"
     ]
    }
   ],
   "source": [
    "for synSet in wordSynsets:\n",
    "    if synSet.part_meronyms():\n",
    "        for meronym in synSet.part_meronyms():\n",
    "            print('Meronym structure name: ', meronym.name())\n",
    "            print('Meronym(s): ', meronym.lemma_names())"
   ]
  },
  {
   "cell_type": "code",
   "execution_count": 168,
   "id": "563ef254",
   "metadata": {},
   "outputs": [],
   "source": [
    "for synSet in wordSynsets:\n",
    "    if synSet.substance_meronyms():\n",
    "        for meronym in synSet.substance_meronyms():\n",
    "            print('Meronym structure name: ', meronym.name())\n",
    "            print('Meronym(s): ', meronym.lemma_names())"
   ]
  },
  {
   "cell_type": "markdown",
   "id": "7acfb1ba",
   "metadata": {},
   "source": [
    "And **holonyms** (a holonym of X is a word representing what X is contained within):"
   ]
  },
  {
   "cell_type": "code",
   "execution_count": 172,
   "id": "8cc44f44",
   "metadata": {},
   "outputs": [
    {
     "name": "stdout",
     "output_type": "stream",
     "text": [
      "Holonym structure name:  circulatory_system.n.01\n",
      "Holonym(s):  ['circulatory_system', 'cardiovascular_system']\n"
     ]
    }
   ],
   "source": [
    "for synSet in wordSynsets:\n",
    "    if synSet.part_holonyms():\n",
    "        for holonym in synSet.part_holonyms():\n",
    "            print('Holonym structure name: ', holonym.name())\n",
    "            print('Holonym(s): ', holonym.lemma_names())"
   ]
  },
  {
   "cell_type": "code",
   "execution_count": 174,
   "id": "8772e601",
   "metadata": {},
   "outputs": [],
   "source": [
    "for synSet in wordSynsets:\n",
    "    if synSet.substance_holonyms():\n",
    "        for holonym in synSet.substance_holonyms():\n",
    "            print('Holonym structure name: ', holonym.name())\n",
    "            print('Holonym(s): ', holonym.lemma_names())"
   ]
  }
 ],
 "metadata": {
  "kernelspec": {
   "display_name": "Python 3 (ipykernel)",
   "language": "python",
   "name": "python3"
  },
  "language_info": {
   "codemirror_mode": {
    "name": "ipython",
    "version": 3
   },
   "file_extension": ".py",
   "mimetype": "text/x-python",
   "name": "python",
   "nbconvert_exporter": "python",
   "pygments_lexer": "ipython3",
   "version": "3.8.12"
  }
 },
 "nbformat": 4,
 "nbformat_minor": 5
}
