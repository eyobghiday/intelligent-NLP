{
 "cells": [
  {
   "cell_type": "markdown",
   "id": "58f33529",
   "metadata": {},
   "source": [
    "**CS481 Notebook 2:** Regular Expressions with re"
   ]
  },
  {
   "cell_type": "markdown",
   "id": "0b4f164b",
   "metadata": {},
   "source": [
    "Import re package first"
   ]
  },
  {
   "cell_type": "code",
   "execution_count": 1,
   "id": "a92fd3fe",
   "metadata": {},
   "outputs": [],
   "source": [
    "import re"
   ]
  },
  {
   "cell_type": "markdown",
   "id": "7cb73bbf",
   "metadata": {},
   "source": [
    "Set up a string variable for the text you want to process"
   ]
  },
  {
   "cell_type": "code",
   "execution_count": 2,
   "id": "deb39cfc",
   "metadata": {},
   "outputs": [],
   "source": [
    "data = 'Natural language processing (NLP) is a subfield of linguistics, computer science, and artificial intelligence concerned with the interactions between computers and human language, in particular how to program computers to process and analyze large amounts of natural language data. The goal is a computer capable of \\\"understanding\\\" the contents of documents, including the contextual nuances of the language within them. The technology can then accurately extract information and insights contained in the documents as well as categorize and organize the documents themselves.'"
   ]
  },
  {
   "cell_type": "markdown",
   "id": "1fb31984",
   "metadata": {},
   "source": [
    "Display your data:"
   ]
  },
  {
   "cell_type": "code",
   "execution_count": 3,
   "id": "fcfa80a9",
   "metadata": {},
   "outputs": [
    {
     "name": "stdout",
     "output_type": "stream",
     "text": [
      "Natural language processing (NLP) is a subfield of linguistics, computer science, and artificial intelligence concerned with the interactions between computers and human language, in particular how to program computers to process and analyze large amounts of natural language data. The goal is a computer capable of \"understanding\" the contents of documents, including the contextual nuances of the language within them. The technology can then accurately extract information and insights contained in the documents as well as categorize and organize the documents themselves.\n"
     ]
    }
   ],
   "source": [
    "print(data)"
   ]
  },
  {
   "cell_type": "markdown",
   "id": "98389019",
   "metadata": {},
   "source": [
    "Specify pattern for **searching** (r means 'what follows is a raw string'). We want to find all instances of article 'the' in data. There should be eight instances:"
   ]
  },
  {
   "cell_type": "code",
   "execution_count": 4,
   "id": "738fe90e",
   "metadata": {},
   "outputs": [],
   "source": [
    "pattern = r'the' # r means 'what follows is a raw string'"
   ]
  },
  {
   "cell_type": "markdown",
   "id": "45ae8372",
   "metadata": {},
   "source": [
    "Let's see if we can find a matching pattern in our data:"
   ]
  },
  {
   "cell_type": "code",
   "execution_count": 5,
   "id": "9f8ad7c0",
   "metadata": {},
   "outputs": [],
   "source": [
    "results = re.findall(pattern, data)"
   ]
  },
  {
   "cell_type": "markdown",
   "id": "15f04afb",
   "metadata": {},
   "source": [
    "Let's check if matches were found:"
   ]
  },
  {
   "cell_type": "code",
   "execution_count": 6,
   "id": "b12c6022",
   "metadata": {
    "scrolled": true
   },
   "outputs": [
    {
     "name": "stdout",
     "output_type": "stream",
     "text": [
      "['the', 'the', 'the', 'the', 'the', 'the', 'the', 'the', 'the']\n"
     ]
    }
   ],
   "source": [
    "print(results)"
   ]
  },
  {
   "cell_type": "markdown",
   "id": "8a1fc71a",
   "metadata": {},
   "source": [
    "Specify a revised pattern for **searching**. This time both lowercase (the) and uppercase (The) variants can be found:"
   ]
  },
  {
   "cell_type": "code",
   "execution_count": 7,
   "id": "e0bc6009",
   "metadata": {},
   "outputs": [],
   "source": [
    "pattern = r'[tT]he' #r means 'what follows is a raw string'"
   ]
  },
  {
   "cell_type": "markdown",
   "id": "f725d8e8",
   "metadata": {},
   "source": [
    "Let's see if we can find a matching pattern in our data:"
   ]
  },
  {
   "cell_type": "code",
   "execution_count": 8,
   "id": "cca8da85",
   "metadata": {},
   "outputs": [],
   "source": [
    "results = re.findall(pattern, data)"
   ]
  },
  {
   "cell_type": "markdown",
   "id": "d24b57c9",
   "metadata": {},
   "source": [
    "Let's check if matches were found:"
   ]
  },
  {
   "cell_type": "code",
   "execution_count": 9,
   "id": "2f6b2c75",
   "metadata": {},
   "outputs": [
    {
     "name": "stdout",
     "output_type": "stream",
     "text": [
      "['the', 'The', 'the', 'the', 'the', 'the', 'The', 'the', 'the', 'the', 'the']\n"
     ]
    }
   ],
   "source": [
    "print(results)"
   ]
  },
  {
   "cell_type": "markdown",
   "id": "97bc0d29",
   "metadata": {},
   "source": [
    "Specify a revised pattern for **searching**. This time both lowercase (the) and uppercase (The) variants can be found and we are specifying word boundaries with \\b:"
   ]
  },
  {
   "cell_type": "code",
   "execution_count": 10,
   "id": "57118ec7",
   "metadata": {},
   "outputs": [],
   "source": [
    "pattern = r'\\b[tT]he\\b' #r means 'what follows is a raw string'"
   ]
  },
  {
   "cell_type": "markdown",
   "id": "1a3ac496",
   "metadata": {},
   "source": [
    "Let's see if we can find a matching pattern in our data:"
   ]
  },
  {
   "cell_type": "code",
   "execution_count": 11,
   "id": "6e4661aa",
   "metadata": {},
   "outputs": [],
   "source": [
    "results = re.findall(pattern, data)"
   ]
  },
  {
   "cell_type": "markdown",
   "id": "9fc9ae4b",
   "metadata": {},
   "source": [
    "Let's check if matches were found:"
   ]
  },
  {
   "cell_type": "code",
   "execution_count": 12,
   "id": "c0115c5f",
   "metadata": {},
   "outputs": [
    {
     "name": "stdout",
     "output_type": "stream",
     "text": [
      "['the', 'The', 'the', 'the', 'the', 'The', 'the', 'the']\n"
     ]
    }
   ],
   "source": [
    "print(results)"
   ]
  }
 ],
 "metadata": {
  "kernelspec": {
   "display_name": "Python 3 (ipykernel)",
   "language": "python",
   "name": "python3"
  },
  "language_info": {
   "codemirror_mode": {
    "name": "ipython",
    "version": 3
   },
   "file_extension": ".py",
   "mimetype": "text/x-python",
   "name": "python",
   "nbconvert_exporter": "python",
   "pygments_lexer": "ipython3",
   "version": "3.8.12"
  }
 },
 "nbformat": 4,
 "nbformat_minor": 5
}
