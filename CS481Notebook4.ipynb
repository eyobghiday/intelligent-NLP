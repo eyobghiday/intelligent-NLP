{
 "cells": [
  {
   "cell_type": "markdown",
   "id": "58f33529",
   "metadata": {},
   "source": [
    "**CS481 Notebook 4:** Regular Expressions with re - simple sentence segmentation example"
   ]
  },
  {
   "cell_type": "markdown",
   "id": "0b4f164b",
   "metadata": {},
   "source": [
    "Import re package first"
   ]
  },
  {
   "cell_type": "code",
   "execution_count": 1,
   "id": "a92fd3fe",
   "metadata": {},
   "outputs": [],
   "source": [
    "import re"
   ]
  },
  {
   "cell_type": "markdown",
   "id": "7cb73bbf",
   "metadata": {},
   "source": [
    "Set up a string variable for the text you want to process"
   ]
  },
  {
   "cell_type": "code",
   "execution_count": 2,
   "id": "deb39cfc",
   "metadata": {},
   "outputs": [],
   "source": [
    "data = 'Let us do it! What is Artificial Intelligence? According to Wikipedia, Artificial intelligence (AI) is intelligence demonstrated by machines, as opposed to natural intelligence displayed by animals including humans. Leading AI textbooks define the field as the study of \"intelligent agents\": any system that perceives its environment and takes actions that maximize its chance of achieving its goals. Some popular accounts use the term \"artificial intelligence\" to describe machines that mimic \"cognitive\" functions that humans associate with the human mind, such as \"learning\" and \"problem solving\", however, this definition is rejected by major AI researchers.'"
   ]
  },
  {
   "cell_type": "markdown",
   "id": "1fb31984",
   "metadata": {},
   "source": [
    "Display your data:"
   ]
  },
  {
   "cell_type": "code",
   "execution_count": 3,
   "id": "fcfa80a9",
   "metadata": {},
   "outputs": [
    {
     "name": "stdout",
     "output_type": "stream",
     "text": [
      "Let us do it! What is Artificial Intelligence? According to Wikipedia, Artificial intelligence (AI) is intelligence demonstrated by machines, as opposed to natural intelligence displayed by animals including humans. Leading AI textbooks define the field as the study of \"intelligent agents\": any system that perceives its environment and takes actions that maximize its chance of achieving its goals. Some popular accounts use the term \"artificial intelligence\" to describe machines that mimic \"cognitive\" functions that humans associate with the human mind, such as \"learning\" and \"problem solving\", however, this definition is rejected by major AI researchers.\n"
     ]
    }
   ],
   "source": [
    "print(data)"
   ]
  },
  {
   "cell_type": "markdown",
   "id": "98389019",
   "metadata": {},
   "source": [
    "Specify pattern for **splitting / segmentation**:"
   ]
  },
  {
   "cell_type": "code",
   "execution_count": 4,
   "id": "738fe90e",
   "metadata": {},
   "outputs": [],
   "source": [
    "pattern = '[\\.\\?!]' # splitting / segmentation will happen where either . or ? or ! exist in input text"
   ]
  },
  {
   "cell_type": "markdown",
   "id": "45ae8372",
   "metadata": {},
   "source": [
    "Segmentation time:"
   ]
  },
  {
   "cell_type": "code",
   "execution_count": 5,
   "id": "9f8ad7c0",
   "metadata": {},
   "outputs": [],
   "source": [
    "sentences = re.split(pattern, data) # use split function to perform segmentation"
   ]
  },
  {
   "cell_type": "markdown",
   "id": "15f04afb",
   "metadata": {},
   "source": [
    "Let's print out all the sentences after segmentation:"
   ]
  },
  {
   "cell_type": "code",
   "execution_count": 6,
   "id": "b12c6022",
   "metadata": {
    "scrolled": true
   },
   "outputs": [
    {
     "name": "stdout",
     "output_type": "stream",
     "text": [
      "Let us do it\n",
      " What is Artificial Intelligence\n",
      " According to Wikipedia, Artificial intelligence (AI) is intelligence demonstrated by machines, as opposed to natural intelligence displayed by animals including humans\n",
      " Leading AI textbooks define the field as the study of \"intelligent agents\": any system that perceives its environment and takes actions that maximize its chance of achieving its goals\n",
      " Some popular accounts use the term \"artificial intelligence\" to describe machines that mimic \"cognitive\" functions that humans associate with the human mind, such as \"learning\" and \"problem solving\", however, this definition is rejected by major AI researchers\n",
      "\n"
     ]
    }
   ],
   "source": [
    "for sentence in sentences:\n",
    "    print(sentence)"
   ]
  },
  {
   "cell_type": "markdown",
   "id": "8d007064",
   "metadata": {},
   "source": [
    "You can see that our sentences are beginning with a space. We can use **substitution** to remove those:"
   ]
  },
  {
   "cell_type": "markdown",
   "id": "ee042c20",
   "metadata": {},
   "source": [
    "First, let's set up a regular expression **matching** pattern:"
   ]
  },
  {
   "cell_type": "code",
   "execution_count": 7,
   "id": "040a20e7",
   "metadata": {},
   "outputs": [],
   "source": [
    "matchPattern = '^ '  # single space is the pattern. Note the anchor ^ specifying the beginning of the string"
   ]
  },
  {
   "cell_type": "markdown",
   "id": "cb6e3947",
   "metadata": {},
   "source": [
    "Now, let's set up a **substitution** string:"
   ]
  },
  {
   "cell_type": "code",
   "execution_count": 8,
   "id": "580994ea",
   "metadata": {},
   "outputs": [],
   "source": [
    "replaceWithString = '' # empty string -> we want to remove what we found"
   ]
  },
  {
   "cell_type": "markdown",
   "id": "390bdddb",
   "metadata": {},
   "source": [
    "Let's perform substitution on every sentence found:"
   ]
  },
  {
   "cell_type": "code",
   "execution_count": 9,
   "id": "1a46e070",
   "metadata": {},
   "outputs": [],
   "source": [
    "for index in range(len(sentences)):\n",
    "    sentences[index] = re.sub(matchPattern, replaceWithString, sentences[index])"
   ]
  },
  {
   "cell_type": "markdown",
   "id": "5019b65c",
   "metadata": {},
   "source": [
    "Let's see the outcome:"
   ]
  },
  {
   "cell_type": "code",
   "execution_count": 10,
   "id": "8b9c37f7",
   "metadata": {},
   "outputs": [
    {
     "name": "stdout",
     "output_type": "stream",
     "text": [
      "Let us do it\n",
      "What is Artificial Intelligence\n",
      "According to Wikipedia, Artificial intelligence (AI) is intelligence demonstrated by machines, as opposed to natural intelligence displayed by animals including humans\n",
      "Leading AI textbooks define the field as the study of \"intelligent agents\": any system that perceives its environment and takes actions that maximize its chance of achieving its goals\n",
      "Some popular accounts use the term \"artificial intelligence\" to describe machines that mimic \"cognitive\" functions that humans associate with the human mind, such as \"learning\" and \"problem solving\", however, this definition is rejected by major AI researchers\n",
      "\n"
     ]
    }
   ],
   "source": [
    "for sentence in sentences:\n",
    "    print(sentence)"
   ]
  }
 ],
 "metadata": {
  "kernelspec": {
   "display_name": "Python 3 (ipykernel)",
   "language": "python",
   "name": "python3"
  },
  "language_info": {
   "codemirror_mode": {
    "name": "ipython",
    "version": 3
   },
   "file_extension": ".py",
   "mimetype": "text/x-python",
   "name": "python",
   "nbconvert_exporter": "python",
   "pygments_lexer": "ipython3",
   "version": "3.8.12"
  }
 },
 "nbformat": 4,
 "nbformat_minor": 5
}
