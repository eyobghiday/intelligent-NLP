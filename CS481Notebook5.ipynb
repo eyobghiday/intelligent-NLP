{
 "cells": [
  {
   "cell_type": "markdown",
   "id": "093b6477",
   "metadata": {},
   "source": [
    "**CS481 Notebook 5:** Regular Expressions with re - simple sentence (with case folding / lowercasing) tokenization example"
   ]
  },
  {
   "cell_type": "markdown",
   "id": "69a9d810",
   "metadata": {},
   "source": [
    "Import re package first"
   ]
  },
  {
   "cell_type": "code",
   "execution_count": 4,
   "id": "d60a872e",
   "metadata": {},
   "outputs": [],
   "source": [
    "import re"
   ]
  },
  {
   "cell_type": "markdown",
   "id": "7a7b1dd4",
   "metadata": {},
   "source": [
    "Set up a string variable for the text you want to process:"
   ]
  },
  {
   "cell_type": "code",
   "execution_count": 5,
   "id": "42abf730",
   "metadata": {},
   "outputs": [],
   "source": [
    "sentence = 'Three ducks and two cats are walking on a thin glass surface'"
   ]
  },
  {
   "cell_type": "markdown",
   "id": "2c835cce",
   "metadata": {},
   "source": [
    "Specify pattern for splitting / tokenization:"
   ]
  },
  {
   "cell_type": "code",
   "execution_count": 6,
   "id": "46fb8059",
   "metadata": {},
   "outputs": [],
   "source": [
    "pattern = '\\s' # splitting / tokenization will happen where any whitespace is present in the input text"
   ]
  },
  {
   "cell_type": "markdown",
   "id": "c6104d75",
   "metadata": {},
   "source": [
    "Tokenization time:"
   ]
  },
  {
   "cell_type": "code",
   "execution_count": 7,
   "id": "e9548afc",
   "metadata": {},
   "outputs": [],
   "source": [
    "tokens = re.split(pattern, sentence) # use split function to perform tokenization"
   ]
  },
  {
   "cell_type": "markdown",
   "id": "2cddcd79",
   "metadata": {},
   "source": [
    "Let's print out all the tokens after tokenization:"
   ]
  },
  {
   "cell_type": "code",
   "execution_count": 8,
   "id": "f4804746",
   "metadata": {},
   "outputs": [
    {
     "name": "stdout",
     "output_type": "stream",
     "text": [
      "Three\n",
      "ducks\n",
      "and\n",
      "two\n",
      "cats\n",
      "are\n",
      "walking\n",
      "on\n",
      "a\n",
      "thin\n",
      "glass\n",
      "surface\n"
     ]
    }
   ],
   "source": [
    "for token in tokens:\n",
    "    print(token)"
   ]
  },
  {
   "cell_type": "markdown",
   "id": "ee6055de",
   "metadata": {},
   "source": [
    "Now, let's apply some lowercasing / case folding:"
   ]
  },
  {
   "cell_type": "code",
   "execution_count": 9,
   "id": "3a5a0b41",
   "metadata": {
    "scrolled": true
   },
   "outputs": [],
   "source": [
    "for index in range(len(tokens)):\n",
    "    tokens[index] = tokens[index].lower()"
   ]
  },
  {
   "cell_type": "markdown",
   "id": "97ab0ca6",
   "metadata": {},
   "source": [
    "Let's print out all the tokens again after lowercasing:"
   ]
  },
  {
   "cell_type": "code",
   "execution_count": 10,
   "id": "3535598b",
   "metadata": {},
   "outputs": [
    {
     "name": "stdout",
     "output_type": "stream",
     "text": [
      "three\n",
      "ducks\n",
      "and\n",
      "two\n",
      "cats\n",
      "are\n",
      "walking\n",
      "on\n",
      "a\n",
      "thin\n",
      "glass\n",
      "surface\n"
     ]
    }
   ],
   "source": [
    "for token in tokens:\n",
    "    print(token)"
   ]
  },
  {
   "cell_type": "markdown",
   "id": "6f4c3f11",
   "metadata": {},
   "source": [
    "We are ready for some stemming or lemmatization."
   ]
  }
 ],
 "metadata": {
  "kernelspec": {
   "display_name": "Python 3 (ipykernel)",
   "language": "python",
   "name": "python3"
  },
  "language_info": {
   "codemirror_mode": {
    "name": "ipython",
    "version": 3
   },
   "file_extension": ".py",
   "mimetype": "text/x-python",
   "name": "python",
   "nbconvert_exporter": "python",
   "pygments_lexer": "ipython3",
   "version": "3.8.12"
  }
 },
 "nbformat": 4,
 "nbformat_minor": 5
}
