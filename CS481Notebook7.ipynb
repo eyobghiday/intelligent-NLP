{
 "cells": [
  {
   "cell_type": "markdown",
   "id": "093b6477",
   "metadata": {},
   "source": [
    "**CS481 Notebook 7:** Text normalization with re - a **CRUDE** attempt at stemming"
   ]
  },
  {
   "cell_type": "raw",
   "id": "6a63ead9",
   "metadata": {},
   "source": [
    "Import re package first"
   ]
  },
  {
   "cell_type": "code",
   "execution_count": 30,
   "id": "d60a872e",
   "metadata": {},
   "outputs": [],
   "source": [
    "import re"
   ]
  },
  {
   "cell_type": "markdown",
   "id": "7a7b1dd4",
   "metadata": {},
   "source": [
    "Set up a string variable for the text you want to process:"
   ]
  },
  {
   "cell_type": "code",
   "execution_count": 31,
   "id": "42abf730",
   "metadata": {},
   "outputs": [],
   "source": [
    "sentence = 'Three ducks and two cats are walking on a thin glass surface'"
   ]
  },
  {
   "cell_type": "markdown",
   "id": "2c835cce",
   "metadata": {},
   "source": [
    "Specify pattern for splitting / tokenization:"
   ]
  },
  {
   "cell_type": "code",
   "execution_count": 32,
   "id": "46fb8059",
   "metadata": {},
   "outputs": [],
   "source": [
    "pattern = '\\s' # splitting / tokenization will happen where any whitespace is present in the input text"
   ]
  },
  {
   "cell_type": "markdown",
   "id": "43d82e15",
   "metadata": {},
   "source": [
    "Tokenization time:"
   ]
  },
  {
   "cell_type": "code",
   "execution_count": 33,
   "id": "ea41d090",
   "metadata": {},
   "outputs": [],
   "source": [
    "tokens = re.split(pattern, sentence) # use split function to perform tokenization"
   ]
  },
  {
   "cell_type": "markdown",
   "id": "2cddcd79",
   "metadata": {},
   "source": [
    "Let's print out all the tokens after tokenization:"
   ]
  },
  {
   "cell_type": "code",
   "execution_count": 34,
   "id": "f4804746",
   "metadata": {},
   "outputs": [
    {
     "name": "stdout",
     "output_type": "stream",
     "text": [
      "Three\n",
      "ducks\n",
      "and\n",
      "two\n",
      "cats\n",
      "are\n",
      "walking\n",
      "on\n",
      "a\n",
      "thin\n",
      "glass\n",
      "surface\n"
     ]
    }
   ],
   "source": [
    "for token in tokens:\n",
    "    print(token)"
   ]
  },
  {
   "cell_type": "markdown",
   "id": "6f4c3f11",
   "metadata": {},
   "source": [
    "Let's try to apply first stemming rule (remove -ing suffixes) using re package function / method sub:"
   ]
  },
  {
   "cell_type": "markdown",
   "id": "8e9529a0",
   "metadata": {},
   "source": [
    "First we need to set up the suffix pattern:"
   ]
  },
  {
   "cell_type": "code",
   "execution_count": 38,
   "id": "0e9dcc3f",
   "metadata": {},
   "outputs": [],
   "source": [
    "suffixPattern = r'ing$' # -ing suffix anchored ($) at the end of the string"
   ]
  },
  {
   "cell_type": "markdown",
   "id": "c975c8c2",
   "metadata": {},
   "source": [
    "Now, let's apply the pattern to all tokens:"
   ]
  },
  {
   "cell_type": "code",
   "execution_count": 39,
   "id": "652edd27",
   "metadata": {},
   "outputs": [],
   "source": [
    "for index in range(len(tokens)):\n",
    "    tokens[index] = re.sub(suffixPattern, '', tokens[index])"
   ]
  },
  {
   "cell_type": "markdown",
   "id": "078316a8",
   "metadata": {},
   "source": [
    "Let's print out all the tokens after this first round of stemming:"
   ]
  },
  {
   "cell_type": "code",
   "execution_count": 40,
   "id": "09086600",
   "metadata": {},
   "outputs": [
    {
     "name": "stdout",
     "output_type": "stream",
     "text": [
      "Three\n",
      "ducks\n",
      "and\n",
      "two\n",
      "cats\n",
      "are\n",
      "walk\n",
      "on\n",
      "a\n",
      "thin\n",
      "glass\n",
      "surface\n"
     ]
    }
   ],
   "source": [
    "for token in tokens:\n",
    "    print(token)"
   ]
  },
  {
   "cell_type": "markdown",
   "id": "b90d233f",
   "metadata": {},
   "source": [
    "So far so good. Let's try another round of stemming: removing -s suffix from plural forms"
   ]
  },
  {
   "cell_type": "markdown",
   "id": "1e2e7e84",
   "metadata": {},
   "source": [
    "Let's modify the suffix pattern to reflect another stemming rule:"
   ]
  },
  {
   "cell_type": "code",
   "execution_count": 41,
   "id": "75521254",
   "metadata": {},
   "outputs": [],
   "source": [
    "suffixPattern = r's$' # -s suffix anchored ($) at the end of the string"
   ]
  },
  {
   "cell_type": "markdown",
   "id": "64b88822",
   "metadata": {},
   "source": [
    "Now, let's apply this pattern to all tokens:"
   ]
  },
  {
   "cell_type": "code",
   "execution_count": 42,
   "id": "ba186144",
   "metadata": {},
   "outputs": [],
   "source": [
    "for index in range(len(tokens)):\n",
    "    tokens[index] = re.sub(suffixPattern, '', tokens[index])"
   ]
  },
  {
   "cell_type": "markdown",
   "id": "eb9c4038",
   "metadata": {},
   "source": [
    "Let's print out all the tokens after this second round of stemming:"
   ]
  },
  {
   "cell_type": "code",
   "execution_count": 43,
   "id": "d8205808",
   "metadata": {},
   "outputs": [
    {
     "name": "stdout",
     "output_type": "stream",
     "text": [
      "Three\n",
      "duck\n",
      "and\n",
      "two\n",
      "cat\n",
      "are\n",
      "walk\n",
      "on\n",
      "a\n",
      "thin\n",
      "glas\n",
      "surface\n"
     ]
    }
   ],
   "source": [
    "for token in tokens:\n",
    "    print(token)"
   ]
  },
  {
   "cell_type": "markdown",
   "id": "c9e6c6a9",
   "metadata": {},
   "source": [
    "Notice that it worked nicely on 'ducks' and 'cats', but 'glass' should not have been affected. Clearly we need something smarter than that."
   ]
  }
 ],
 "metadata": {
  "kernelspec": {
   "display_name": "Python 3 (ipykernel)",
   "language": "python",
   "name": "python3"
  },
  "language_info": {
   "codemirror_mode": {
    "name": "ipython",
    "version": 3
   },
   "file_extension": ".py",
   "mimetype": "text/x-python",
   "name": "python",
   "nbconvert_exporter": "python",
   "pygments_lexer": "ipython3",
   "version": "3.8.12"
  }
 },
 "nbformat": 4,
 "nbformat_minor": 5
}
