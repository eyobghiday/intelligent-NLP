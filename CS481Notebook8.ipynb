{
 "cells": [
  {
   "cell_type": "markdown",
   "id": "19908800",
   "metadata": {},
   "source": [
    "**CS481 Notebook 8:** NLTK stemming"
   ]
  },
  {
   "cell_type": "markdown",
   "id": "4b0cd694",
   "metadata": {},
   "source": [
    "Import NLTK package first:"
   ]
  },
  {
   "cell_type": "code",
   "execution_count": 49,
   "id": "830510c6",
   "metadata": {},
   "outputs": [],
   "source": [
    "import nltk"
   ]
  },
  {
   "cell_type": "markdown",
   "id": "db47c41f",
   "metadata": {},
   "source": [
    "Set up a list of words that we would like to stem:"
   ]
  },
  {
   "cell_type": "code",
   "execution_count": 50,
   "id": "c84bf498",
   "metadata": {},
   "outputs": [],
   "source": [
    "words = ['caresses', 'flies', 'dies', 'mules', 'denied',\n",
    "...            'died', 'agreed', 'owned', 'humbled', 'sized',\n",
    "...            'meeting', 'stating', 'sizing', 'itemization',\n",
    "...            'sensational', 'traditional', 'reference', 'colonizer',\n",
    "...            'plotted', 'crying', 'cats', 'glass', 'fairly', 'lying']"
   ]
  },
  {
   "cell_type": "markdown",
   "id": "f80fe844",
   "metadata": {},
   "source": [
    "Now, set up the NLTK stemmer. Let's use the Porter stemming algorithm first:"
   ]
  },
  {
   "cell_type": "code",
   "execution_count": 51,
   "id": "d021304e",
   "metadata": {},
   "outputs": [],
   "source": [
    "pStemmer = nltk.stem.PorterStemmer()"
   ]
  },
  {
   "cell_type": "markdown",
   "id": "cb2b7fd1",
   "metadata": {},
   "source": [
    "Time to stem:"
   ]
  },
  {
   "cell_type": "code",
   "execution_count": 52,
   "id": "8dc2b736",
   "metadata": {},
   "outputs": [
    {
     "name": "stdout",
     "output_type": "stream",
     "text": [
      "Porter stemmer output:\n",
      "BEFORE:  caresses  AFTER:  caress\n",
      "BEFORE:  flies  AFTER:  fli\n",
      "BEFORE:  dies  AFTER:  die\n",
      "BEFORE:  mules  AFTER:  mule\n",
      "BEFORE:  denied  AFTER:  deni\n",
      "BEFORE:  died  AFTER:  die\n",
      "BEFORE:  agreed  AFTER:  agre\n",
      "BEFORE:  owned  AFTER:  own\n",
      "BEFORE:  humbled  AFTER:  humbl\n",
      "BEFORE:  sized  AFTER:  size\n",
      "BEFORE:  meeting  AFTER:  meet\n",
      "BEFORE:  stating  AFTER:  state\n",
      "BEFORE:  sizing  AFTER:  size\n",
      "BEFORE:  itemization  AFTER:  item\n",
      "BEFORE:  sensational  AFTER:  sensat\n",
      "BEFORE:  traditional  AFTER:  tradit\n",
      "BEFORE:  reference  AFTER:  refer\n",
      "BEFORE:  colonizer  AFTER:  colon\n",
      "BEFORE:  plotted  AFTER:  plot\n",
      "BEFORE:  crying  AFTER:  cri\n",
      "BEFORE:  cats  AFTER:  cat\n",
      "BEFORE:  glass  AFTER:  glass\n",
      "BEFORE:  fairly  AFTER:  fairli\n",
      "BEFORE:  lying  AFTER:  lie\n"
     ]
    }
   ],
   "source": [
    "print('Porter stemmer output:')\n",
    "for word in words:\n",
    "    stemmedWord = pStemmer.stem(word)\n",
    "    print('BEFORE: ', word, ' AFTER: ', stemmedWord)"
   ]
  },
  {
   "cell_type": "markdown",
   "id": "c4a63ad4",
   "metadata": {},
   "source": [
    "OK, let's change the stemmer. Let's use the Snowball stemming algorithm now:"
   ]
  },
  {
   "cell_type": "markdown",
   "id": "93b9f840",
   "metadata": {},
   "source": [
    "Snowball stemmer (which is also known as Porter2 stemmer) can handle other languages:"
   ]
  },
  {
   "cell_type": "code",
   "execution_count": 53,
   "id": "f3593ae8",
   "metadata": {},
   "outputs": [
    {
     "name": "stdout",
     "output_type": "stream",
     "text": [
      "('arabic', 'danish', 'dutch', 'english', 'finnish', 'french', 'german', 'hungarian', 'italian', 'norwegian', 'porter', 'portuguese', 'romanian', 'russian', 'spanish', 'swedish')\n"
     ]
    }
   ],
   "source": [
    "print(nltk.stem.SnowballStemmer.languages)"
   ]
  },
  {
   "cell_type": "markdown",
   "id": "3c6fb0aa",
   "metadata": {},
   "source": [
    "We will initialize the Snowball Stemmer with English:"
   ]
  },
  {
   "cell_type": "code",
   "execution_count": 54,
   "id": "0e3a427a",
   "metadata": {},
   "outputs": [],
   "source": [
    "sStemmer = nltk.stem.SnowballStemmer('english')"
   ]
  },
  {
   "cell_type": "markdown",
   "id": "c8962615",
   "metadata": {},
   "source": [
    "Snowball stemmer (which is a modified Porter Stemmer) can handle other languages:"
   ]
  },
  {
   "cell_type": "markdown",
   "id": "c80eb0a1",
   "metadata": {},
   "source": [
    "Time to stem:"
   ]
  },
  {
   "cell_type": "code",
   "execution_count": 55,
   "id": "f4c22055",
   "metadata": {},
   "outputs": [
    {
     "name": "stdout",
     "output_type": "stream",
     "text": [
      "Snowball stemmer output:\n",
      "BEFORE:  caresses  AFTER:  caress\n",
      "BEFORE:  flies  AFTER:  fli\n",
      "BEFORE:  dies  AFTER:  die\n",
      "BEFORE:  mules  AFTER:  mule\n",
      "BEFORE:  denied  AFTER:  deni\n",
      "BEFORE:  died  AFTER:  die\n",
      "BEFORE:  agreed  AFTER:  agre\n",
      "BEFORE:  owned  AFTER:  own\n",
      "BEFORE:  humbled  AFTER:  humbl\n",
      "BEFORE:  sized  AFTER:  size\n",
      "BEFORE:  meeting  AFTER:  meet\n",
      "BEFORE:  stating  AFTER:  state\n",
      "BEFORE:  sizing  AFTER:  size\n",
      "BEFORE:  itemization  AFTER:  item\n",
      "BEFORE:  sensational  AFTER:  sensat\n",
      "BEFORE:  traditional  AFTER:  tradit\n",
      "BEFORE:  reference  AFTER:  refer\n",
      "BEFORE:  colonizer  AFTER:  colon\n",
      "BEFORE:  plotted  AFTER:  plot\n",
      "BEFORE:  crying  AFTER:  cri\n",
      "BEFORE:  cats  AFTER:  cat\n",
      "BEFORE:  glass  AFTER:  glass\n",
      "BEFORE:  fairly  AFTER:  fair\n",
      "BEFORE:  lying  AFTER:  lie\n"
     ]
    }
   ],
   "source": [
    "print('Snowball stemmer output:')\n",
    "for word in words:\n",
    "    stemmedWord = sStemmer.stem(word)\n",
    "    print('BEFORE: ', word, ' AFTER: ', stemmedWord)"
   ]
  },
  {
   "cell_type": "markdown",
   "id": "e4fd938c",
   "metadata": {},
   "source": [
    "OK, let's change the stemmer one more time. Let's use the Lancaster stemming algorithm now:"
   ]
  },
  {
   "cell_type": "code",
   "execution_count": 44,
   "id": "f5884b21",
   "metadata": {},
   "outputs": [],
   "source": [
    "lStemmer = nltk.stem.LancasterStemmer()"
   ]
  },
  {
   "cell_type": "markdown",
   "id": "69868342",
   "metadata": {},
   "source": [
    "Time to stem:"
   ]
  },
  {
   "cell_type": "code",
   "execution_count": 45,
   "id": "75fec0c8",
   "metadata": {},
   "outputs": [
    {
     "name": "stdout",
     "output_type": "stream",
     "text": [
      "Lancaster stemmer output:\n",
      "BEFORE:  caresses  AFTER:  caress\n",
      "BEFORE:  flies  AFTER:  fli\n",
      "BEFORE:  dies  AFTER:  die\n",
      "BEFORE:  mules  AFTER:  mul\n",
      "BEFORE:  denied  AFTER:  deny\n",
      "BEFORE:  died  AFTER:  died\n",
      "BEFORE:  agreed  AFTER:  agree\n",
      "BEFORE:  owned  AFTER:  own\n",
      "BEFORE:  humbled  AFTER:  humbl\n",
      "BEFORE:  sized  AFTER:  siz\n",
      "BEFORE:  meeting  AFTER:  meet\n",
      "BEFORE:  stating  AFTER:  stat\n",
      "BEFORE:  sizing  AFTER:  siz\n",
      "BEFORE:  itemization  AFTER:  item\n",
      "BEFORE:  sensational  AFTER:  sens\n",
      "BEFORE:  traditional  AFTER:  tradit\n",
      "BEFORE:  reference  AFTER:  ref\n",
      "BEFORE:  colonizer  AFTER:  colon\n",
      "BEFORE:  plotted  AFTER:  plot\n",
      "BEFORE:  crying  AFTER:  cry\n",
      "BEFORE:  cats  AFTER:  cat\n",
      "BEFORE:  glass  AFTER:  glass\n",
      "BEFORE:  fairly  AFTER:  fair\n",
      "BEFORE:  lying  AFTER:  lying\n"
     ]
    }
   ],
   "source": [
    "print('Lancaster stemmer output:')\n",
    "for word in words:\n",
    "    stemmedWord = lStemmer.stem(word)\n",
    "    print('BEFORE: ', word, ' AFTER: ', stemmedWord)"
   ]
  },
  {
   "cell_type": "markdown",
   "id": "c5d2ce2e",
   "metadata": {},
   "source": [
    "Now, let's compare their output side by side:"
   ]
  },
  {
   "cell_type": "code",
   "execution_count": 46,
   "id": "3b04ebec",
   "metadata": {},
   "outputs": [
    {
     "name": "stdout",
     "output_type": "stream",
     "text": [
      "BEFORE:  caresses  | PORTER:  caress  | SNOWBALL:  caress  | LANCASTER:  caress\n",
      "BEFORE:  flies  | PORTER:  fli  | SNOWBALL:  fli  | LANCASTER:  fli\n",
      "BEFORE:  dies  | PORTER:  die  | SNOWBALL:  die  | LANCASTER:  die\n",
      "BEFORE:  mules  | PORTER:  mule  | SNOWBALL:  mule  | LANCASTER:  mul\n",
      "BEFORE:  denied  | PORTER:  deni  | SNOWBALL:  deni  | LANCASTER:  deny\n",
      "BEFORE:  died  | PORTER:  die  | SNOWBALL:  die  | LANCASTER:  died\n",
      "BEFORE:  agreed  | PORTER:  agre  | SNOWBALL:  agre  | LANCASTER:  agree\n",
      "BEFORE:  owned  | PORTER:  own  | SNOWBALL:  own  | LANCASTER:  own\n",
      "BEFORE:  humbled  | PORTER:  humbl  | SNOWBALL:  humbl  | LANCASTER:  humbl\n",
      "BEFORE:  sized  | PORTER:  size  | SNOWBALL:  size  | LANCASTER:  siz\n",
      "BEFORE:  meeting  | PORTER:  meet  | SNOWBALL:  meet  | LANCASTER:  meet\n",
      "BEFORE:  stating  | PORTER:  state  | SNOWBALL:  state  | LANCASTER:  stat\n",
      "BEFORE:  sizing  | PORTER:  size  | SNOWBALL:  size  | LANCASTER:  siz\n",
      "BEFORE:  itemization  | PORTER:  item  | SNOWBALL:  item  | LANCASTER:  item\n",
      "BEFORE:  sensational  | PORTER:  sensat  | SNOWBALL:  sensat  | LANCASTER:  sens\n",
      "BEFORE:  traditional  | PORTER:  tradit  | SNOWBALL:  tradit  | LANCASTER:  tradit\n",
      "BEFORE:  reference  | PORTER:  refer  | SNOWBALL:  refer  | LANCASTER:  ref\n",
      "BEFORE:  colonizer  | PORTER:  colon  | SNOWBALL:  colon  | LANCASTER:  colon\n",
      "BEFORE:  plotted  | PORTER:  plot  | SNOWBALL:  plot  | LANCASTER:  plot\n",
      "BEFORE:  crying  | PORTER:  cri  | SNOWBALL:  cri  | LANCASTER:  cry\n",
      "BEFORE:  cats  | PORTER:  cat  | SNOWBALL:  cat  | LANCASTER:  cat\n",
      "BEFORE:  glass  | PORTER:  glass  | SNOWBALL:  glass  | LANCASTER:  glass\n",
      "BEFORE:  fairly  | PORTER:  fairli  | SNOWBALL:  fair  | LANCASTER:  fair\n",
      "BEFORE:  lying  | PORTER:  lie  | SNOWBALL:  lie  | LANCASTER:  lying\n"
     ]
    }
   ],
   "source": [
    "for word in words:\n",
    "    pStem = pStemmer.stem(word)\n",
    "    sStem = sStemmer.stem(word)\n",
    "    lStem = lStemmer.stem(word)\n",
    "    print('BEFORE: ', word, ' | PORTER: ' , pStem, ' | SNOWBALL: ', sStem, ' | LANCASTER: ', lStem)"
   ]
  },
  {
   "cell_type": "markdown",
   "id": "b8714fbf",
   "metadata": {},
   "source": [
    "NOTE: spaCy does NOT have a stemmer!"
   ]
  }
 ],
 "metadata": {
  "kernelspec": {
   "display_name": "Python 3 (ipykernel)",
   "language": "python",
   "name": "python3"
  },
  "language_info": {
   "codemirror_mode": {
    "name": "ipython",
    "version": 3
   },
   "file_extension": ".py",
   "mimetype": "text/x-python",
   "name": "python",
   "nbconvert_exporter": "python",
   "pygments_lexer": "ipython3",
   "version": "3.8.12"
  }
 },
 "nbformat": 4,
 "nbformat_minor": 5
}
